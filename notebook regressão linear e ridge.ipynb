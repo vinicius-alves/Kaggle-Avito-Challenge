{
 "cells": [
  {
   "cell_type": "markdown",
   "metadata": {},
   "source": [
    "# Imports"
   ]
  },
  {
   "cell_type": "code",
   "execution_count": 2,
   "metadata": {},
   "outputs": [],
   "source": [
    "import numpy as np\n",
    "import pandas as pd\n",
    "import matplotlib.pyplot as plt\n",
    "import time\n",
    "import scipy.sparse as sps\n",
    "from sklearn.model_selection import train_test_split\n",
    "from sklearn.metrics import mean_squared_error"
   ]
  },
  {
   "cell_type": "markdown",
   "metadata": {},
   "source": [
    "# Carregando os dados"
   ]
  },
  {
   "cell_type": "code",
   "execution_count": 3,
   "metadata": {},
   "outputs": [
    {
     "name": "stdout",
     "output_type": "stream",
     "text": [
      "Tempo de carregamento das Matrizes: 0.23s\n",
      "\n"
     ]
    }
   ],
   "source": [
    "start = time.time()\n",
    "vetor_train_target = sps.load_npz('data/sparse_matrix_train_target_small.npz').tocsr()\n",
    "matriz_train       = sps.load_npz('data/sparse_matrix_train_small.npz').tocsr()\n",
    "matriz_test        = sps.load_npz('data/sparse_matrix_test_small.npz' ).tocsr()\n",
    "end = time.time()\n",
    "\n",
    "\n",
    "print('Tempo de carregamento das Matrizes: '+str(\"%.2f\" % (end - start))+'s\\n')\n"
   ]
  },
  {
   "cell_type": "markdown",
   "metadata": {},
   "source": [
    "# Avaliando regressor linear"
   ]
  },
  {
   "cell_type": "code",
   "execution_count": 3,
   "metadata": {},
   "outputs": [
    {
     "name": "stdout",
     "output_type": "stream",
     "text": [
      "Tempo de processamento do regressor linear: 41.21s\n",
      "\n",
      "\n",
      "\n",
      "RMSE MEAN:  0.2635\n",
      "RMSE STD:   0.0106\n",
      "\n",
      "\n"
     ]
    },
    {
     "data": {
      "image/png": "[encoded data removed]",
      "text/plain": [
       "<Figure size 432x288 with 1 Axes>"
      ]
     },
     "metadata": {},
     "output_type": "display_data"
    }
   ],
   "source": [
    "from sklearn.linear_model import LinearRegression\n",
    "start = time.time()\n",
    "\n",
    "def regressao_linear():\n",
    "    \n",
    "    X = matriz_train\n",
    "    y = vetor_train_target\n",
    "\n",
    "    # Dividindo dados de treino\n",
    "    X_train, X_test, y_train, y_test = train_test_split(X,y,test_size = 0.33)\n",
    "\n",
    "    # Criando Regressor Linear\n",
    "    regr = LinearRegression(n_jobs = -1)\n",
    "\n",
    "    # Treino\n",
    "    regr.fit(X_train, y_train.toarray().ravel()) \n",
    "\n",
    "    # Predição     \n",
    "    y_pred = regr.predict(X_test)\n",
    "    \n",
    "    #Root mean squared error\n",
    "    return np.sqrt(mean_squared_error(y_test.todense(), y_pred))\n",
    "\n",
    "start = time.time()\n",
    "\n",
    "rmse_list =[]\n",
    "\n",
    "# Testando 2000 vezes através de amostras aleatórias\n",
    "for i in range(2000):\n",
    "    rmse = regressao_linear()\n",
    "    rmse_list.append(rmse)\n",
    "\n",
    "end = time.time()\n",
    "\n",
    "print('Tempo de processamento do regressor linear: '+str(\"%.2f\" % (end - start))+'s\\n')\n",
    "\n",
    "\n",
    "print(\"\\n\")\n",
    "print(\"RMSE MEAN: \",\"%.4f\" % np.mean(rmse_list))\n",
    "print(\"RMSE STD:  \",\"%.4f\" % np.std(rmse_list))\n",
    "print(\"\\n\")\n",
    "\n",
    "plt.title(u\"Histograma - RMSE_MEAN: \" + str(\"%.3f\" % np.mean(rmse_list))+ \" RMSE_STD: \" + str(\"%.2f\" % np.std(rmse_list)))\n",
    "plt.ylabel(\"Quantity\")\n",
    "plt.xlabel(\"RMSE\")\n",
    "\n",
    "plt.hist(rmse_list,bins =30)\n",
    "plt.show()"
   ]
  },
  {
   "cell_type": "markdown",
   "metadata": {},
   "source": [
    "# Avaliando regressor Ridge"
   ]
  },
  {
   "cell_type": "code",
   "execution_count": 14,
   "metadata": {},
   "outputs": [
    {
     "name": "stdout",
     "output_type": "stream",
     "text": [
      "Tempo de processamento do regressor ridge: 24.02s\n",
      "\n",
      "\n",
      "\n",
      "RMSE MEAN:  0.2492\n",
      "RMSE STD:   0.0119\n",
      "\n",
      "\n"
     ]
    },
    {
     "data": {
      "image/png": "[encoded data removed]",
      "text/plain": [
       "<Figure size 432x288 with 1 Axes>"
      ]
     },
     "metadata": {},
     "output_type": "display_data"
    }
   ],
   "source": [
    "from sklearn.linear_model import Ridge\n",
    "start = time.time()\n",
    "\n",
    "def regressao_ridge():\n",
    "    \n",
    "    X = matriz_train\n",
    "    y = vetor_train_target\n",
    "\n",
    "    # Dividindo dados de treino\n",
    "    X_train, X_test, y_train, y_test = train_test_split(X,y,test_size = 0.33)\n",
    "\n",
    "    # Criando Regressor Linear\n",
    "    regr = Ridge(alpha = 29.0)\n",
    "\n",
    "    # Treino\n",
    "    regr.fit(X_train, y_train.toarray().ravel()) \n",
    "\n",
    "    # Predição     \n",
    "    y_pred = regr.predict(X_test)\n",
    "    \n",
    "    #Root mean squared error\n",
    "    return np.sqrt(mean_squared_error(y_test.todense(), y_pred))\n",
    "\n",
    "start = time.time()\n",
    "\n",
    "rmse_list =[]\n",
    "\n",
    "# Testando 2000 vezes através de amostras aleatórias\n",
    "for i in range(2000):\n",
    "    rmse = regressao_ridge()\n",
    "    rmse_list.append(rmse)\n",
    "\n",
    "end = time.time()\n",
    "\n",
    "print('Tempo de processamento do regressor ridge: '+str(\"%.2f\" % (end - start))+'s\\n')\n",
    "\n",
    "\n",
    "print(\"\\n\")\n",
    "print(\"RMSE MEAN: \",\"%.4f\" % np.mean(rmse_list))\n",
    "print(\"RMSE STD:  \",\"%.4f\" % np.std(rmse_list))\n",
    "print(\"\\n\")\n",
    "\n",
    "plt.title(u\"Histograma - RMSE_MEAN: \" + str(\"%.3f\" % np.mean(rmse_list))+ \" RMSE_STD: \" + str(\"%.2f\" % np.std(rmse_list)))\n",
    "plt.ylabel(\"Quantity\")\n",
    "plt.xlabel(\"RMSE\")\n",
    "\n",
    "plt.hist(rmse_list,bins =30)\n",
    "plt.show()"
   ]
  },
  {
   "cell_type": "markdown",
   "metadata": {},
   "source": [
    "# Avaliando regressor GradientBoosting"
   ]
  },
  {
   "cell_type": "code",
   "execution_count": 21,
   "metadata": {},
   "outputs": [
    {
     "name": "stdout",
     "output_type": "stream",
     "text": [
      "Tempo de processamento do GradientBoostingRegressor : 190.88s\n",
      "\n",
      "\n",
      "\n",
      "RMSE MEAN:  0.2580\n",
      "RMSE STD:   0.0124\n",
      "\n",
      "\n"
     ]
    },
    {
     "data": {
      "image/png": "[encoded data removed]",
      "text/plain": [
       "<Figure size 432x288 with 1 Axes>"
      ]
     },
     "metadata": {},
     "output_type": "display_data"
    }
   ],
   "source": [
    "from sklearn.ensemble import GradientBoostingRegressor\n",
    "\n",
    "start = time.time()\n",
    "\n",
    "def regressao_gradient_boosting():\n",
    "    \n",
    "    X = matriz_train\n",
    "    y = vetor_train_target\n",
    "\n",
    "    # Dividindo dados de treino\n",
    "    X_train, X_test, y_train, y_test = train_test_split(X,y,test_size = 0.33)\n",
    "\n",
    "    # Criando Regressor Linear\n",
    "    regr = GradientBoostingRegressor(learning_rate = 0.01)\n",
    "\n",
    "    # Treino\n",
    "    regr.fit(X_train, y_train.toarray().ravel()) \n",
    "\n",
    "    # Predição     \n",
    "    y_pred = regr.predict(X_test)\n",
    "    \n",
    "    #Root mean squared error\n",
    "    return np.sqrt(mean_squared_error(y_test.todense(), y_pred))\n",
    "\n",
    "start = time.time()\n",
    "\n",
    "rmse_list =[]\n",
    "\n",
    "# Testando 200 vezes através de amostras aleatórias\n",
    "for i in range(200):\n",
    "    rmse = regressao_gradient_boosting()\n",
    "    rmse_list.append(rmse)\n",
    "\n",
    "end = time.time()\n",
    "\n",
    "print('Tempo de processamento do GradientBoostingRegressor : '+str(\"%.2f\" % (end - start))+'s\\n')\n",
    "\n",
    "\n",
    "print(\"\\n\")\n",
    "print(\"RMSE MEAN: \",\"%.4f\" % np.mean(rmse_list))\n",
    "print(\"RMSE STD:  \",\"%.4f\" % np.std(rmse_list))\n",
    "print(\"\\n\")\n",
    "\n",
    "plt.title(u\"Histograma - RMSE_MEAN: \" + str(\"%.3f\" % np.mean(rmse_list))+ \" RMSE_STD: \" + str(\"%.2f\" % np.std(rmse_list)))\n",
    "plt.ylabel(\"Quantity\")\n",
    "plt.xlabel(\"RMSE\")\n",
    "\n",
    "plt.hist(rmse_list,bins =30)\n",
    "plt.show()"
   ]
  },
  {
   "cell_type": "markdown",
   "metadata": {},
   "source": [
    "# Avaliando regressor SVR"
   ]
  },
  {
   "cell_type": "code",
   "execution_count": 18,
   "metadata": {},
   "outputs": [
    {
     "name": "stdout",
     "output_type": "stream",
     "text": [
      "Tempo de processamento do regressor SVR: 335.57s\n",
      "\n",
      "\n",
      "\n",
      "RMSE MEAN:  0.2616\n",
      "RMSE STD:   0.0094\n",
      "\n",
      "\n"
     ]
    },
    {
     "data": {
      "image/png": "[encoded data removed]",
      "text/plain": [
       "<Figure size 432x288 with 1 Axes>"
      ]
     },
     "metadata": {},
     "output_type": "display_data"
    }
   ],
   "source": [
    "from sklearn.svm import SVR\n",
    "\n",
    "start = time.time()\n",
    "\n",
    "def regressao_svr():\n",
    "    \n",
    "    X = matriz_train\n",
    "    y = vetor_train_target\n",
    "\n",
    "    # Dividindo dados de treino\n",
    "    X_train, X_test, y_train, y_test = train_test_split(X,y,test_size = 0.33)\n",
    "\n",
    "    # Criando Regressor SVR\n",
    "    regr = SVR('linear')\n",
    "    \n",
    "    # Treino\n",
    "    regr.fit(X_train, y_train.toarray().ravel()) \n",
    "\n",
    "    # Predição     \n",
    "    y_pred = regr.predict(X_test)\n",
    "    \n",
    "    #Root mean squared error\n",
    "    return np.sqrt(mean_squared_error(y_test.todense(), y_pred))\n",
    "\n",
    "start = time.time()\n",
    "\n",
    "rmse_list =[]\n",
    "\n",
    "# Testando 2000 vezes através de amostras aleatórias\n",
    "for i in range(2000):\n",
    "    rmse = regressao_svr()\n",
    "    rmse_list.append(rmse)\n",
    "\n",
    "end = time.time()\n",
    "\n",
    "print('Tempo de processamento do regressor SVR: '+str(\"%.2f\" % (end - start))+'s\\n')\n",
    "\n",
    "\n",
    "print(\"\\n\")\n",
    "print(\"RMSE MEAN: \",\"%.4f\" % np.mean(rmse_list))\n",
    "print(\"RMSE STD:  \",\"%.4f\" % np.std(rmse_list))\n",
    "print(\"\\n\")\n",
    "\n",
    "plt.title(u\"Histograma - RMSE_MEAN: \" + str(\"%.3f\" % np.mean(rmse_list))+ \" RMSE_STD: \" + str(\"%.2f\" % np.std(rmse_list)))\n",
    "plt.ylabel(\"Quantity\")\n",
    "plt.xlabel(\"RMSE\")\n",
    "\n",
    "plt.hist(rmse_list,bins =30)\n",
    "plt.show()"
   ]
  },
  {
   "cell_type": "markdown",
   "metadata": {},
   "source": [
    "# Utilizando regressor ridge em dados de teste"
   ]
  },
  {
   "cell_type": "code",
   "execution_count": 15,
   "metadata": {},
   "outputs": [],
   "source": [
    "\n",
    "X_train = matriz_train\n",
    "y_train = vetor_train_target\n",
    "X_test  = matriz_test\n",
    "\n",
    "# Criando Regressor Ridge\n",
    "regr = Ridge(alpha = 29.0)\n",
    "\n",
    "# Treino\n",
    "regr.fit(X_train, y_train.toarray().ravel()) \n",
    "\n",
    "# Predição      \n",
    "y_pred = regr.predict(X_test)\n",
    "\n",
    "# Melhorando resultado\n",
    "def fronteira(y):\n",
    "    if y >1:\n",
    "        return 1.0\n",
    "    elif y <0:\n",
    "        return 0.0\n",
    "    else:\n",
    "        return y\n",
    "    \n",
    "y_pred = np.array(list(map(fronteira, y_pred)))\n"
   ]
  },
  {
   "cell_type": "markdown",
   "metadata": {},
   "source": [
    "# Salvando o resultado"
   ]
  },
  {
   "cell_type": "code",
   "execution_count": 5,
   "metadata": {},
   "outputs": [],
   "source": [
    "df_test_item_id  = pd.read_csv('./data/test.csv' , encoding='utf8')['item_id'].head(y_pred.shape[0])\n",
    "df_y_pred = pd.DataFrame(y_pred, columns = ['deal_probability'])\n",
    "df_resultado = pd.concat([df_test_item_id,df_y_pred],axis =1)\n",
    "df_resultado.to_csv('submission.csv', encoding='utf-8', index=False)"
   ]
  }
 ],
 "metadata": {
  "kernelspec": {
   "display_name": "Python 3",
   "language": "python",
   "name": "python3"
  },
  "language_info": {
   "codemirror_mode": {
    "name": "ipython",
    "version": 3
   },
   "file_extension": ".py",
   "mimetype": "text/x-python",
   "name": "python",
   "nbconvert_exporter": "python",
   "pygments_lexer": "ipython3",
   "version": "3.6.4"
  }
 },
 "nbformat": 4,
 "nbformat_minor": 2
}
