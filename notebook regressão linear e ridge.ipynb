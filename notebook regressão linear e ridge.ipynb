{
 "cells": [
  {
   "cell_type": "markdown",
   "metadata": {},
   "source": [
    "# Imports"
   ]
  },
  {
   "cell_type": "code",
   "execution_count": 1,
   "metadata": {},
   "outputs": [],
   "source": [
    "import numpy as np\n",
    "import pandas as pd\n",
    "import matplotlib.pyplot as plt\n",
    "import time\n",
    "import scipy.sparse as sps\n",
    "from sklearn.model_selection import train_test_split, KFold\n",
    "from sklearn.metrics import mean_squared_error"
   ]
  },
  {
   "cell_type": "markdown",
   "metadata": {},
   "source": [
    "# Carregando os dados"
   ]
  },
  {
   "cell_type": "code",
   "execution_count": 2,
   "metadata": {},
   "outputs": [
    {
     "name": "stdout",
     "output_type": "stream",
     "text": [
      "Tempo de carregamento das Matrizes: 0.05s\n",
      "\n"
     ]
    }
   ],
   "source": [
    "start = time.time()\n",
    "vetor_train_target = sps.load_npz('data/sparse_matrix_train_target_small.npz').tocsr()\n",
    "matriz_train       = sps.load_npz('data/sparse_matrix_train_small.npz').tocsr()\n",
    "matriz_test        = sps.load_npz('data/sparse_matrix_test_small.npz' ).tocsr()\n",
    "end = time.time()\n",
    "\n",
    "\n",
    "print('Tempo de carregamento das Matrizes: '+str(\"%.2f\" % (end - start))+'s\\n')\n"
   ]
  },
  {
   "cell_type": "markdown",
   "metadata": {},
   "source": [
    "# Avaliando regressor linear"
   ]
  },
  {
   "cell_type": "code",
   "execution_count": 6,
   "metadata": {},
   "outputs": [
    {
     "name": "stdout",
     "output_type": "stream",
     "text": [
      "Tempo de processamento do regressor linear: 0.15s\n",
      "\n",
      "\n",
      "RMSE MEAN:  0.2610\n",
      "RMSE STD:   0.0167 \n",
      "\n",
      "\n"
     ]
    },
    {
     "data": {
      "image/png": "[encoded data removed]",
      "text/plain": [
       "<Figure size 432x288 with 1 Axes>"
      ]
     },
     "metadata": {},
     "output_type": "display_data"
    }
   ],
   "source": [
    "from sklearn.linear_model import LinearRegression\n",
    "start = time.time()\n",
    "\n",
    "rmse_list =[]\n",
    "X = matriz_train\n",
    "y = vetor_train_target\n",
    "kf = KFold(n_splits=4);\n",
    "    \n",
    "# Dividindo dados de treino\n",
    "#X_train, X_test, y_train, y_test = train_test_split(X,y,test_size = 0.33)\n",
    "\n",
    "for train, test in kf.split(X):\n",
    "    X_train, X_test = X[train], X[test];\n",
    "    y_train, y_test = y[train], y[test];\n",
    "        \n",
    "    # Criando Regressor Linear\n",
    "    regr = LinearRegression(n_jobs = -1)\n",
    "    \n",
    "    # Treino\n",
    "    regr.fit(X_train, y_train.toarray().ravel()) \n",
    "    \n",
    "    # Predição     \n",
    "    y_pred = regr.predict(X_test)\n",
    "    \n",
    "    #Root mean squared error\n",
    "    rmse_list.append(np.sqrt(mean_squared_error(y_test.todense(), y_pred)));\n",
    "\n",
    "end = time.time()\n",
    "\n",
    "print('Tempo de processamento do regressor linear: '+str(\"%.2f\" % (end - start))+'s\\n\\n')\n",
    "print(\"RMSE MEAN: \",\"%.4f\" % np.mean(rmse_list))\n",
    "print(\"RMSE STD:  \",\"%.4f\" % np.std(rmse_list), '\\n\\n')\n",
    "\n",
    "plt.title(u\"Histograma - RMSE_MEAN: \" + str(\"%.3f\" % np.mean(rmse_list))+ \" RMSE_STD: \" + str(\"%.2f\" % np.std(rmse_list)))\n",
    "plt.ylabel(\"Quantity\")\n",
    "plt.xlabel(\"RMSE\")\n",
    "\n",
    "plt.hist(rmse_list,bins =30)\n",
    "plt.show()"
   ]
  },
  {
   "cell_type": "markdown",
   "metadata": {},
   "source": [
    "# Avaliando regressor Ridge"
   ]
  },
  {
   "cell_type": "code",
   "execution_count": 7,
   "metadata": {},
   "outputs": [
    {
     "name": "stdout",
     "output_type": "stream",
     "text": [
      "Tempo de processamento do regressor ridge: 0.19s\n",
      "\n",
      "\n",
      "RMSE MEAN:  0.2465\n",
      "RMSE STD:   0.0147 \n",
      "\n",
      "\n"
     ]
    },
    {
     "data": {
      "image/png": "[encoded data removed]",
      "text/plain": [
       "<Figure size 432x288 with 1 Axes>"
      ]
     },
     "metadata": {},
     "output_type": "display_data"
    }
   ],
   "source": [
    "from sklearn.linear_model import Ridge\n",
    "start = time.time()\n",
    "\n",
    "rmse_list =[]\n",
    "X = matriz_train\n",
    "y = vetor_train_target\n",
    "kf = KFold(n_splits=4);\n",
    "    \n",
    "# Dividindo dados de treino\n",
    "#X_train, X_test, y_train, y_test = train_test_split(X,y,test_size = 0.33)\n",
    "\n",
    "for train, test in kf.split(X):\n",
    "    X_train, X_test = X[train], X[test];\n",
    "    y_train, y_test = y[train], y[test];\n",
    "\n",
    "    # Criando Regressor Linear\n",
    "    regr = Ridge(alpha = 29.0)\n",
    "\n",
    "    # Treino\n",
    "    regr.fit(X_train, y_train.toarray().ravel()) \n",
    "\n",
    "    # Predição     \n",
    "    y_pred = regr.predict(X_test)\n",
    "    \n",
    "    #Root mean squared error\n",
    "    rmse_list.append(np.sqrt(mean_squared_error(y_test.todense(), y_pred)));\n",
    "\n",
    "end = time.time()\n",
    "\n",
    "print('Tempo de processamento do regressor ridge: '+str(\"%.2f\" % (end - start))+'s\\n\\n')\n",
    "print(\"RMSE MEAN: \",\"%.4f\" % np.mean(rmse_list))\n",
    "print(\"RMSE STD:  \",\"%.4f\" % np.std(rmse_list), '\\n\\n')\n",
    "\n",
    "plt.title(u\"Histograma - RMSE_MEAN: \" + str(\"%.3f\" % np.mean(rmse_list))+ \" RMSE_STD: \" + str(\"%.2f\" % np.std(rmse_list)))\n",
    "plt.ylabel(\"Quantity\")\n",
    "plt.xlabel(\"RMSE\")\n",
    "\n",
    "plt.hist(rmse_list,bins =30)\n",
    "plt.show()"
   ]
  },
  {
   "cell_type": "markdown",
   "metadata": {},
   "source": [
    "# Avaliando regressor GradientBoosting"
   ]
  },
  {
   "cell_type": "code",
   "execution_count": 8,
   "metadata": {},
   "outputs": [
    {
     "name": "stdout",
     "output_type": "stream",
     "text": [
      "Tempo de processamento do GradientBoostingRegressor : 10.06s\n",
      "\n",
      "\n",
      "RMSE MEAN:  0.2582\n",
      "RMSE STD:   0.0149 \n",
      "\n",
      "\n"
     ]
    },
    {
     "data": {
      "image/png": "[encoded data removed]",
      "text/plain": [
       "<Figure size 432x288 with 1 Axes>"
      ]
     },
     "metadata": {},
     "output_type": "display_data"
    }
   ],
   "source": [
    "from sklearn.ensemble import GradientBoostingRegressor\n",
    "start = time.time()\n",
    "\n",
    "rmse_list =[]\n",
    "X = matriz_train\n",
    "y = vetor_train_target\n",
    "kf = KFold(n_splits=4);\n",
    "    \n",
    "# Dividindo dados de treino\n",
    "#X_train, X_test, y_train, y_test = train_test_split(X,y,test_size = 0.33)\n",
    "\n",
    "for train, test in kf.split(X):\n",
    "    X_train, X_test = X[train], X[test];\n",
    "    y_train, y_test = y[train], y[test];\n",
    "\n",
    "    # Criando Regressor Linear\n",
    "    regr = GradientBoostingRegressor(learning_rate = 0.01)\n",
    "\n",
    "    # Treino\n",
    "    regr.fit(X_train, y_train.toarray().ravel()) \n",
    "\n",
    "    # Predição     \n",
    "    y_pred = regr.predict(X_test)\n",
    "    \n",
    "    #Root mean squared error\n",
    "    rmse_list.append(np.sqrt(mean_squared_error(y_test.todense(), y_pred)));\n",
    "\n",
    "end = time.time()\n",
    "\n",
    "print('Tempo de processamento do GradientBoostingRegressor : '+str(\"%.2f\" % (end - start))+'s\\n\\n')\n",
    "print(\"RMSE MEAN: \",\"%.4f\" % np.mean(rmse_list))\n",
    "print(\"RMSE STD:  \",\"%.4f\" % np.std(rmse_list), '\\n\\n')\n",
    "\n",
    "plt.title(u\"Histograma - RMSE_MEAN: \" + str(\"%.3f\" % np.mean(rmse_list))+ \" RMSE_STD: \" + str(\"%.2f\" % np.std(rmse_list)))\n",
    "plt.ylabel(\"Quantity\")\n",
    "plt.xlabel(\"RMSE\")\n",
    "\n",
    "plt.hist(rmse_list,bins =30)\n",
    "plt.show()"
   ]
  },
  {
   "cell_type": "markdown",
   "metadata": {},
   "source": [
    "# Avaliando regressor SVM"
   ]
  },
  {
   "cell_type": "code",
   "execution_count": 9,
   "metadata": {},
   "outputs": [
    {
     "name": "stdout",
     "output_type": "stream",
     "text": [
      "Tempo de processamento do regressor SVM: 0.90s\n",
      "\n",
      "\n",
      "RMSE MEAN:  0.2582\n",
      "RMSE STD:   0.0139 \n",
      "\n",
      "\n"
     ]
    },
    {
     "data": {
      "image/png": "[encoded data removed]",
      "text/plain": [
       "<Figure size 432x288 with 1 Axes>"
      ]
     },
     "metadata": {},
     "output_type": "display_data"
    }
   ],
   "source": [
    "from sklearn.svm import SVR\n",
    "start = time.time()\n",
    "\n",
    "rmse_list =[]\n",
    "X = matriz_train\n",
    "y = vetor_train_target\n",
    "kf = KFold(n_splits=4);\n",
    "    \n",
    "# Dividindo dados de treino\n",
    "#X_train, X_test, y_train, y_test = train_test_split(X,y,test_size = 0.33)\n",
    "\n",
    "for train, test in kf.split(X):\n",
    "    X_train, X_test = X[train], X[test];\n",
    "    y_train, y_test = y[train], y[test];\n",
    "\n",
    "    # Criando Regressor SVM\n",
    "    regr = SVR('linear')\n",
    "    \n",
    "    # Treino\n",
    "    regr.fit(X_train, y_train.toarray().ravel()) \n",
    "\n",
    "    # Predição     \n",
    "    y_pred = regr.predict(X_test)\n",
    "    \n",
    "    #Root mean squared error\n",
    "    rmse_list.append(np.sqrt(mean_squared_error(y_test.todense(), y_pred)));\n",
    "\n",
    "end = time.time()\n",
    "\n",
    "print('Tempo de processamento do regressor SVM: '+str(\"%.2f\" % (end - start))+'s\\n\\n')\n",
    "print(\"RMSE MEAN: \",\"%.4f\" % np.mean(rmse_list))\n",
    "print(\"RMSE STD:  \",\"%.4f\" % np.std(rmse_list), '\\n\\n')\n",
    "\n",
    "plt.title(u\"Histograma - RMSE_MEAN: \" + str(\"%.3f\" % np.mean(rmse_list))+ \" RMSE_STD: \" + str(\"%.2f\" % np.std(rmse_list)))\n",
    "plt.ylabel(\"Quantity\")\n",
    "plt.xlabel(\"RMSE\")\n",
    "\n",
    "plt.hist(rmse_list,bins =30)\n",
    "plt.show()"
   ]
  },
  {
   "cell_type": "markdown",
   "metadata": {},
   "source": [
    "# Avaliando regresor KNN"
   ]
  },
  {
   "cell_type": "code",
   "execution_count": 10,
   "metadata": {
    "scrolled": false
   },
   "outputs": [
    {
     "name": "stdout",
     "output_type": "stream",
     "text": [
      "Tempo de processamento do regressor KNN: 0.11s\n",
      "\n",
      "\n",
      "RMSE MEAN:  0.2501\n",
      "RMSE STD:   0.0140 \n",
      "\n",
      "\n"
     ]
    },
    {
     "data": {
      "image/png": "[encoded data removed]",
      "text/plain": [
       "<Figure size 432x288 with 1 Axes>"
      ]
     },
     "metadata": {},
     "output_type": "display_data"
    }
   ],
   "source": [
    "from sklearn.neighbors import KNeighborsRegressor\n",
    "start = time.time()\n",
    "\n",
    "rmse_list =[]\n",
    "X = matriz_train\n",
    "y = vetor_train_target\n",
    "kf = KFold(n_splits=4);\n",
    "    \n",
    "# Dividindo dados de treino\n",
    "#X_train, X_test, y_train, y_test = train_test_split(X,y,test_size = 0.33)\n",
    "\n",
    "for train, test in kf.split(X):\n",
    "    X_train, X_test = X[train], X[test];\n",
    "    y_train, y_test = y[train], y[test];\n",
    "\n",
    "    # Criando Regressor KNN\n",
    "    regr = KNeighborsRegressor(algorithm='auto', leaf_size=50, metric='minkowski',\n",
    "                               metric_params=None, n_jobs=1, n_neighbors=30, p=2,\n",
    "                               weights='distance')\n",
    "    \n",
    "    # Treino\n",
    "    regr.fit(X_train, y_train.toarray().ravel()) \n",
    "\n",
    "    # Predição     \n",
    "    y_pred = regr.predict(X_test)\n",
    "    \n",
    "    #Root mean squared error\n",
    "    rmse_list.append(np.sqrt(mean_squared_error(y_test.todense(), y_pred)));\n",
    "\n",
    "end = time.time()\n",
    "\n",
    "print('Tempo de processamento do regressor KNN: '+str(\"%.2f\" % (end - start))+'s\\n\\n')\n",
    "print(\"RMSE MEAN: \",\"%.4f\" % np.mean(rmse_list))\n",
    "print(\"RMSE STD:  \",\"%.4f\" % np.std(rmse_list), '\\n\\n')\n",
    "\n",
    "plt.title(u\"Histograma - RMSE_MEAN: \" + str(\"%.3f\" % np.mean(rmse_list))+ \" RMSE_STD: \" + str(\"%.2f\" % np.std(rmse_list)))\n",
    "plt.ylabel(\"Quantity\")\n",
    "plt.xlabel(\"RMSE\")\n",
    "\n",
    "plt.hist(rmse_list,bins =30)\n",
    "plt.show()"
   ]
  },
  {
   "cell_type": "markdown",
   "metadata": {},
   "source": [
    "# Avaliando regressor LGBM"
   ]
  },
  {
   "cell_type": "code",
   "execution_count": 11,
   "metadata": {},
   "outputs": [
    {
     "name": "stdout",
     "output_type": "stream",
     "text": [
      "Tempo de processamento do regressor LGBM: 0.35s\n",
      "\n",
      "\n",
      "RMSE MEAN:  0.2539\n",
      "RMSE STD:   0.0145 \n",
      "\n",
      "\n"
     ]
    },
    {
     "data": {
      "image/png": "[encoded data removed]",
      "text/plain": [
       "<Figure size 432x288 with 1 Axes>"
      ]
     },
     "metadata": {},
     "output_type": "display_data"
    }
   ],
   "source": [
    "from lightgbm import LGBMRegressor\n",
    "start = time.time()\n",
    "\n",
    "rmse_list =[]\n",
    "X = matriz_train\n",
    "y = vetor_train_target\n",
    "kf = KFold(n_splits=4);\n",
    "    \n",
    "# Dividindo dados de treino\n",
    "#X_train, X_test, y_train, y_test = train_test_split(X,y,test_size = 0.33)\n",
    "\n",
    "for train, test in kf.split(X):\n",
    "    X_train, X_test = X[train], X[test];\n",
    "    y_train, y_test = y[train], y[test];\n",
    "\n",
    "    # Criando Regressor LGBM\n",
    "    regr = LGBMRegressor(boosting_type='gbdt', class_weight=None, colsample_bytree=1.0,\n",
    "                         learning_rate=0.05, max_depth=-1, min_child_samples=20,\n",
    "                         min_child_weight=0.001, min_split_gain=0.0, n_estimators=15,\n",
    "                         n_jobs=-1, num_leaves=5, objective='regression', random_state=None,\n",
    "                         reg_alpha=0.0, reg_lambda=0.0, silent=True, subsample=1.0,\n",
    "                         subsample_for_bin=200000, subsample_freq=1) \n",
    "    \n",
    "    # Treino\n",
    "    regr.fit(X_train, y_train.toarray().ravel(),  eval_metric='metric') \n",
    "\n",
    "    # Predição     \n",
    "    y_pred = regr.predict(X_test)\n",
    "    \n",
    "   #Root mean squared error\n",
    "    rmse_list.append(np.sqrt(mean_squared_error(y_test.todense(), y_pred)));\n",
    "\n",
    "end = time.time()\n",
    "\n",
    "print('Tempo de processamento do regressor LGBM: '+str(\"%.2f\" % (end - start))+'s\\n\\n')\n",
    "print(\"RMSE MEAN: \",\"%.4f\" % np.mean(rmse_list))\n",
    "print(\"RMSE STD:  \",\"%.4f\" % np.std(rmse_list), '\\n\\n')\n",
    "\n",
    "plt.title(u\"Histograma - RMSE_MEAN: \" + str(\"%.3f\" % np.mean(rmse_list))+ \" RMSE_STD: \" + str(\"%.2f\" % np.std(rmse_list)))\n",
    "plt.ylabel(\"Quantity\")\n",
    "plt.xlabel(\"RMSE\")\n",
    "\n",
    "plt.hist(rmse_list,bins =30)\n",
    "plt.show()"
   ]
  },
  {
   "cell_type": "markdown",
   "metadata": {},
   "source": [
    "# Avaliando regressor XGBoost"
   ]
  },
  {
   "cell_type": "code",
   "execution_count": 12,
   "metadata": {},
   "outputs": [
    {
     "name": "stdout",
     "output_type": "stream",
     "text": [
      "Tempo de processamento do regressor linear: 1.06s\n",
      "\n",
      "\n",
      "RMSE MEAN:  0.2562\n",
      "RMSE STD:   0.0134 \n",
      "\n",
      "\n"
     ]
    },
    {
     "data": {
      "image/png": "[encoded data removed]",
      "text/plain": [
       "<Figure size 432x288 with 1 Axes>"
      ]
     },
     "metadata": {},
     "output_type": "display_data"
    }
   ],
   "source": [
    "from xgboost import XGBRegressor\n",
    "start = time.time()\n",
    "\n",
    "rmse_list =[]\n",
    "X = matriz_train\n",
    "y = vetor_train_target\n",
    "kf = KFold(n_splits=4);\n",
    "    \n",
    "# Dividindo dados de treino\n",
    "#X_train, X_test, y_train, y_test = train_test_split(X,y,test_size = 0.33)\n",
    "\n",
    "for train, test in kf.split(X):\n",
    "    X_train, X_test = X[train], X[test];\n",
    "    y_train, y_test = y[train], y[test];\n",
    "        \n",
    "    # Criando Regressor Linear\n",
    "    regr = XGBRegressor(n_estimators=30)\n",
    "    \n",
    "    # Treino\n",
    "    regr.fit(X_train, y_train.toarray().ravel()) \n",
    "    \n",
    "    # Predição     \n",
    "    y_pred = regr.predict(X_test)\n",
    "    \n",
    "    #Root mean squared error\n",
    "    rmse_list.append(np.sqrt(mean_squared_error(y_test.todense(), y_pred)));\n",
    "\n",
    "end = time.time()\n",
    "\n",
    "print('Tempo de processamento do regressor linear: '+str(\"%.2f\" % (end - start))+'s\\n\\n')\n",
    "print(\"RMSE MEAN: \",\"%.4f\" % np.mean(rmse_list))\n",
    "print(\"RMSE STD:  \",\"%.4f\" % np.std(rmse_list), '\\n\\n')\n",
    "\n",
    "plt.title(u\"Histograma - RMSE_MEAN: \" + str(\"%.3f\" % np.mean(rmse_list))+ \" RMSE_STD: \" + str(\"%.2f\" % np.std(rmse_list)))\n",
    "plt.ylabel(\"Quantity\")\n",
    "plt.xlabel(\"RMSE\")\n",
    "\n",
    "plt.hist(rmse_list,bins =30)\n",
    "plt.show()"
   ]
  },
  {
   "cell_type": "markdown",
   "metadata": {},
   "source": [
    "# Utilizando regressor ridge em dados de teste"
   ]
  },
  {
   "cell_type": "code",
   "execution_count": 15,
   "metadata": {},
   "outputs": [],
   "source": [
    "\n",
    "X_train = matriz_train\n",
    "y_train = vetor_train_target\n",
    "X_test  = matriz_test\n",
    "\n",
    "# Criando Regressor Ridge\n",
    "regr = Ridge(alpha = 29.0)\n",
    "\n",
    "# Treino\n",
    "regr.fit(X_train, y_train.toarray().ravel()) \n",
    "\n",
    "# Predição      \n",
    "y_pred = regr.predict(X_test)\n",
    "\n",
    "# Melhorando resultado\n",
    "def fronteira(y):\n",
    "    if y >1:\n",
    "        return 1.0\n",
    "    elif y <0:\n",
    "        return 0.0\n",
    "    else:\n",
    "        return y\n",
    "    \n",
    "y_pred = np.array(list(map(fronteira, y_pred)))\n"
   ]
  },
  {
   "cell_type": "markdown",
   "metadata": {},
   "source": [
    "# Utilizando Bagging"
   ]
  },
  {
   "cell_type": "code",
   "execution_count": null,
   "metadata": {},
   "outputs": [
    {
     "name": "stdout",
     "output_type": "stream",
     "text": [
      "Tempo de processamento do regressor Bagging - Estimador: XGBRegressor(base_score=0.5, booster='gbtree', colsample_bylevel=1,\n",
      "       colsample_bytree=1, gamma=0, learning_rate=0.1, max_delta_step=0,\n",
      "       max_depth=3, min_child_weight=1, missing=None, n_estimators=100,\n",
      "       n_jobs=1, nthread=None, objective='reg:linear', random_state=0,\n",
      "       reg_alpha=0, reg_lambda=1, scale_pos_weight=1, seed=None,\n",
      "       silent=True, subsample=1) params: {'bootstrap': True, 'bootstrap_features': True, 'max_features': 0.5, 'max_samples': 0.5}: 77.78s\n",
      "\n",
      "RMSE MEAN:  0.2398\n",
      "RMSE STD:   0.0026\n",
      "\n",
      "\n"
     ]
    }
   ],
   "source": [
    "from sklearn.model_selection import ParameterGrid\n",
    "from sklearn.linear_model import LinearRegression\n",
    "from sklearn.svm import SVR\n",
    "from sklearn.tree import DecisionTreeRegressor\n",
    "from sklearn.dummy import DummyRegressor\n",
    "from sklearn.neighbors import KNeighborsRegressor\n",
    "from sklearn.ensemble import GradientBoostingRegressor\n",
    "from sklearn.linear_model import Ridge\n",
    "from sklearn.utils import check_random_state\n",
    "from sklearn.ensemble import BaggingRegressor\n",
    "from lightgbm import LGBMRegressor\n",
    "from xgboost import XGBRegressor\n",
    "\n",
    "#randomState = check_random_state(0)\n",
    "X = matriz_train\n",
    "y = vetor_train_target\n",
    "\n",
    "def regressao_bagging(base_estimator, params):\n",
    "    \n",
    "    X = matriz_train\n",
    "    y = vetor_train_target\n",
    "\n",
    "    # Dividindo dados de treino\n",
    "    #X_train, X_test, y_train, y_test = train_test_split(X,y,test_size = 0.33)\n",
    "    \n",
    "    kf = KFold(n_splits=4);\n",
    "    for train, test in kf.split(X):\n",
    "        X_train, X_test = X[train], X[test];\n",
    "        y_train, y_test = y[train], y[test];\n",
    "\n",
    "    # Criando Regressor Linear\n",
    "    #regr = BaggingRegressor(base_estimator=base_estimator,\n",
    "    #                     **params, random_state=randomState)\n",
    "    regr = BaggingRegressor(base_estimator=base_estimator,\n",
    "                         **params)\n",
    "    \n",
    "    # Treino\n",
    "    regr.fit(X_train, y_train.toarray().ravel()) \n",
    "\n",
    "    # Predição     \n",
    "    y_pred = regr.predict(X_test)\n",
    "    \n",
    "    #Root mean squared error\n",
    "    return np.sqrt(mean_squared_error(y_test.todense(), y_pred))\n",
    "\n",
    "# Parametros a serem variados no bagging\n",
    "grid = ParameterGrid({\"max_samples\": [0.5, 1.0],\n",
    "                      \"max_features\": [0.5, 1.0],\n",
    "                      \"bootstrap\": [True, False],\n",
    "                      \"bootstrap_features\": [True, False]})\n",
    "\n",
    "# Testando cada estimador com cada configuração de parametros\n",
    "\n",
    "for base_estimator in [\n",
    "    #None,\n",
    "    #Ridge(alpha = 29.0),\n",
    "    #GradientBoostingRegressor(learning_rate = 0.01),\n",
    "    #DummyRegressor(),\n",
    "    #DecisionTreeRegressor(),\n",
    "    #SVR(),\n",
    "    #KNeighborsRegressor(),\n",
    "    #LGBMRegressor(objective='regression', num_leaves=5, learning_rate=0.05, n_estimators=15),\n",
    "    XGBRegressor()]:\n",
    "    for params in grid:\n",
    "        start = time.time()\n",
    "        rmse_list =[]\n",
    "\n",
    "        # Testando 20 vezes através de amostras aleatórias\n",
    "        for i in range(20):\n",
    "            rmse = regressao_bagging(base_estimator,params)\n",
    "            rmse_list.append(rmse)\n",
    "        end = time.time()\n",
    "\n",
    "        print('Tempo de processamento do regressor Bagging - Estimador: ' + str(base_estimator) + ' params: ' + str(params) + ': '+str(\"%.2f\" % (end - start))+'s\\n')\n",
    "        print(\"RMSE MEAN: \",\"%.4f\" % np.mean(rmse_list))\n",
    "        print(\"RMSE STD:  \",\"%.4f\" % np.std(rmse_list))\n",
    "        print(\"\\n\")"
   ]
  },
  {
   "cell_type": "markdown",
   "metadata": {},
   "source": [
    "# Salvando o resultado"
   ]
  },
  {
   "cell_type": "code",
   "execution_count": 5,
   "metadata": {},
   "outputs": [],
   "source": [
    "df_test_item_id  = pd.read_csv('./data/test.csv' , encoding='utf8')['item_id'].head(y_pred.shape[0])\n",
    "df_y_pred = pd.DataFrame(y_pred, columns = ['deal_probability'])\n",
    "df_resultado = pd.concat([df_test_item_id,df_y_pred],axis =1)\n",
    "df_resultado.to_csv('submission.csv', encoding='utf-8', index=False)"
   ]
  }
 ],
 "metadata": {
  "kernelspec": {
   "display_name": "Python 3",
   "language": "python",
   "name": "python3"
  },
  "language_info": {
   "codemirror_mode": {
    "name": "ipython",
    "version": 3
   },
   "file_extension": ".py",
   "mimetype": "text/x-python",
   "name": "python",
   "nbconvert_exporter": "python",
   "pygments_lexer": "ipython3",
   "version": "3.6.4"
  }
 },
 "nbformat": 4,
 "nbformat_minor": 2
}
