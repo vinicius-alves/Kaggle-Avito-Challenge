{
 "cells": [
  {
   "cell_type": "markdown",
   "metadata": {},
   "source": [
    "# Imports"
   ]
  },
  {
   "cell_type": "markdown",
   "metadata": {},
   "source": [
    "Realizando imports de todos os módulos que seram necessários para o processamento dos regressores"
   ]
  },
  {
   "cell_type": "code",
   "execution_count": 11,
   "metadata": {},
   "outputs": [],
   "source": [
    "import numpy as np\n",
    "import pandas as pd\n",
    "import matplotlib.pyplot as plt\n",
    "import time\n",
    "import scipy.sparse as sps\n",
    "from sklearn.model_selection import train_test_split, KFold\n",
    "from sklearn.metrics import mean_squared_error"
   ]
  },
  {
   "cell_type": "markdown",
   "metadata": {},
   "source": [
    "# Carregando os dados de validação"
   ]
  },
  {
   "cell_type": "markdown",
   "metadata": {},
   "source": [
    "Após realizar os imports temos que carregar os dados para o processamento em cada regressor, logo criamos três variáveis, para que possamos reaproveitar o carregamento dos dados em todos os regressorer. O dados que estão sendo carregados, são amostras retiradas da base de dados total, onde essas amostras tem o intuito de facilitar os testes de processamento de cada regressor"
   ]
  },
  {
   "cell_type": "code",
   "execution_count": 12,
   "metadata": {},
   "outputs": [
    {
     "name": "stdout",
     "output_type": "stream",
     "text": [
      "Tempo de carregamento das Matrizes: 0.16s\n",
      "\n"
     ]
    }
   ],
   "source": [
    "start = time.time()\n",
    "vetor_train_target = sps.load_npz('data/sparse_matrix_train_target_small.npz').tocsr()\n",
    "matriz_train       = sps.load_npz('data/sparse_matrix_train_small.npz').tocsr()\n",
    "matriz_test        = sps.load_npz('data/sparse_matrix_test_small.npz' ).tocsr()\n",
    "end = time.time()\n",
    "\n",
    "print('Tempo de carregamento das Matrizes: '+str(\"%.2f\" % (end - start))+'s\\n')"
   ]
  },
  {
   "cell_type": "markdown",
   "metadata": {},
   "source": [
    "# Configuração do k-fold"
   ]
  },
  {
   "cell_type": "markdown",
   "metadata": {},
   "source": [
    "K-Fold é um método de validação cruzada, que consiste em dividir o conjunto total de dados em k subconjuntos mutuamente exclusivos do mesmo tamanho e, a partir disto, um subconjunto é utilizado para teste. Abaixo realizamos as configurações de alguns parâmetros que ele possui, como o número de divisões por exemplo."
   ]
  },
  {
   "cell_type": "code",
   "execution_count": 26,
   "metadata": {},
   "outputs": [
    {
     "name": "stdout",
     "output_type": "stream",
     "text": [
      "Utilizando intervalo 0:4630 do conjunto de treino para validação, 4630 linhas.\n",
      "K-Fold utilizando 10 partições de 463 linhas do conjunto de treino.\n"
     ]
    }
   ],
   "source": [
    "#np.random.seed(0) - random_state\n",
    "\n",
    "# A validação cruzada é feita através de análise de partições pequenas\n",
    "# e mutuamente exclusivas dos datasets originais\n",
    "\n",
    "# Quantidade de divisões a serem usadas pelo k-fold\n",
    "n_splits = 10\n",
    "\n",
    "# Número de linhas utilizadas em cada divisão\n",
    "max_split_size = 1000\n",
    "\n",
    "# Obtendo conjunto de dados menor, através da escolha anterior\n",
    "num_linhas_treino = matriz_train.shape[0]\n",
    "\n",
    "if(max_split_size*n_splits > num_linhas_treino):\n",
    "    max_split_size = int(np.floor(num_linhas_treino/n_splits))\n",
    "\n",
    "inicio_faixa = np.random.randint(0,num_linhas_treino-max_split_size*n_splits+1)\n",
    "fim_faixa  = inicio_faixa + max_split_size*n_splits\n",
    "matriz_train = matriz_train[inicio_faixa:fim_faixa]\n",
    "vetor_train_target = vetor_train_target[inicio_faixa:fim_faixa]\n",
    "\n",
    "print(\"Utilizando intervalo \"+str(inicio_faixa)+\":\"+str(fim_faixa)+\" do conjunto de treino para validação, \"+str(fim_faixa-inicio_faixa)+\" linhas.\")\n",
    "print(\"K-Fold utilizando \"+str(n_splits)+\" partições de \"+str(max_split_size)+\" linhas do conjunto de treino.\")"
   ]
  },
  {
   "cell_type": "markdown",
   "metadata": {},
   "source": [
    "# Avaliando Regressores"
   ]
  },
  {
   "cell_type": "markdown",
   "metadata": {},
   "source": [
    "Após a etapa de pré-processamento de dados, começamos a avaliar o desempenho de alguns regressores em busca de encontrar os que consigam melhores resultados, a partir das matrizes geradas dos dados do conjunto de treino e do conjunto de teste."
   ]
  },
  {
   "cell_type": "markdown",
   "metadata": {},
   "source": [
    "## Avaliando regressor Linear"
   ]
  },
  {
   "cell_type": "markdown",
   "metadata": {},
   "source": [
    "O regressor Linear gera uma linha reta através do conjunto de pontos N de tal forma que faça a soma dos quadrados residuais do modelo (isto é, as distâncias entre os pontos verticais do conjunto de dados e a linha reta) tão pequena quanto possível."
   ]
  },
  {
   "cell_type": "code",
   "execution_count": 14,
   "metadata": {},
   "outputs": [
    {
     "name": "stdout",
     "output_type": "stream",
     "text": [
      "Tempo de processamento do regressor linear: 5.14s\n",
      "\n",
      "\n",
      "RMSE MEAN:  0.2595\n",
      "RMSE STD:   0.0090 \n",
      "\n",
      "\n"
     ]
    },
    {
     "data": {
      "image/png": "[encoded data removed]",
      "text/plain": [
       "<Figure size 432x288 with 1 Axes>"
      ]
     },
     "metadata": {},
     "output_type": "display_data"
    }
   ],
   "source": [
    "from sklearn.linear_model import LinearRegression\n",
    "start = time.time()\n",
    "\n",
    "rmse_list =[]\n",
    "X = matriz_train\n",
    "y = vetor_train_target\n",
    "\n",
    "kf = KFold(n_splits=n_splits);\n",
    "\n",
    "# Validação cruzada    \n",
    "for train, test in kf.split(X):\n",
    "    X_train, X_test = X[train], X[test]\n",
    "    y_train, y_test = y[train], y[test]\n",
    "        \n",
    "    # Criando Regressor Linear\n",
    "    regr = LinearRegression(n_jobs = -1)\n",
    "    \n",
    "    # Treino\n",
    "    regr.fit(X_train, y_train.toarray().ravel()) \n",
    "    \n",
    "    # Predição     \n",
    "    y_pred = regr.predict(X_test)\n",
    "    \n",
    "    #Root mean squared error\n",
    "    rmse_list.append(np.sqrt(mean_squared_error(y_test.todense(), y_pred)));\n",
    "\n",
    "end = time.time()\n",
    "\n",
    "print('Tempo de processamento do regressor linear: '+str(\"%.2f\" % (end - start))+'s\\n\\n')\n",
    "print(\"RMSE MEAN: \",\"%.4f\" % np.mean(rmse_list))\n",
    "print(\"RMSE STD:  \",\"%.4f\" % np.std(rmse_list), '\\n\\n')\n",
    "\n",
    "plt.title(u\"Histograma - RMSE_MEAN: \" + str(\"%.3f\" % np.mean(rmse_list))+ \" RMSE_STD: \" + str(\"%.2f\" % np.std(rmse_list)))\n",
    "plt.ylabel(\"Quantity\")\n",
    "plt.xlabel(\"RMSE\")\n",
    "\n",
    "plt.hist(rmse_list,bins =30)\n",
    "plt.show()"
   ]
  },
  {
   "cell_type": "markdown",
   "metadata": {},
   "source": [
    "# Avaliando regressor Ridge"
   ]
  },
  {
   "cell_type": "markdown",
   "metadata": {},
   "source": [
    "Este modelo resolve um modelo de regressão, onde a perda é a função linear de mínimos quadrados e regularização é dada pela norma-l2. Também conhecido como regressão do cume ou Tikhonov regularização. Este estimador possui suporte interno para variar multi regressão (ou seja, quando y é uma matriz 2d de forma [n_samples, n_targets])."
   ]
  },
  {
   "cell_type": "code",
   "execution_count": 15,
   "metadata": {},
   "outputs": [
    {
     "name": "stdout",
     "output_type": "stream",
     "text": [
      "Tempo de processamento do regressor ridge: 1.72s\n",
      "\n",
      "\n",
      "RMSE MEAN:  0.2395\n",
      "RMSE STD:   0.0086 \n",
      "\n",
      "\n"
     ]
    },
    {
     "data": {
      "image/png": "[encoded data removed]",
      "text/plain": [
       "<Figure size 432x288 with 1 Axes>"
      ]
     },
     "metadata": {},
     "output_type": "display_data"
    }
   ],
   "source": [
    "from sklearn.linear_model import Ridge\n",
    "start = time.time()\n",
    "\n",
    "rmse_list =[]\n",
    "X = matriz_train\n",
    "y = vetor_train_target\n",
    "kf = KFold(n_splits=n_splits);\n",
    " \n",
    "# Validação cruzada    \n",
    "for train, test in kf.split(X):\n",
    "    X_train, X_test = X[train], X[test]\n",
    "    y_train, y_test = y[train], y[test]\n",
    "\n",
    "    # Criando Regressor Linear\n",
    "    regr = Ridge(alpha = 30.0, fit_intercept=True, normalize=False,\n",
    "                copy_X=True,max_iter=None,tol=0.001)\n",
    "\n",
    "    # Treino\n",
    "    regr.fit(X_train, y_train.toarray().ravel()) \n",
    "\n",
    "    # Predição     \n",
    "    y_pred = regr.predict(X_test)\n",
    "    \n",
    "    #Root mean squared error\n",
    "    rmse_list.append(np.sqrt(mean_squared_error(y_test.todense(), y_pred)))\n",
    "\n",
    "end = time.time()\n",
    "\n",
    "print('Tempo de processamento do regressor ridge: '+str(\"%.2f\" % (end - start))+'s\\n\\n')\n",
    "print(\"RMSE MEAN: \",\"%.4f\" % np.mean(rmse_list))\n",
    "print(\"RMSE STD:  \",\"%.4f\" % np.std(rmse_list), '\\n\\n')\n",
    "\n",
    "plt.title(u\"Histograma - RMSE_MEAN: \" + str(\"%.3f\" % np.mean(rmse_list))+ \" RMSE_STD: \" + str(\"%.2f\" % np.std(rmse_list)))\n",
    "plt.ylabel(\"Quantity\")\n",
    "plt.xlabel(\"RMSE\")\n",
    "\n",
    "plt.hist(rmse_list,bins =30)\n",
    "plt.show()"
   ]
  },
  {
   "cell_type": "markdown",
   "metadata": {},
   "source": [
    "# Avaliando regressor GradientBoosting"
   ]
  },
  {
   "cell_type": "markdown",
   "metadata": {},
   "source": [
    "Constrói um modelo aditivo de forma stage-wise(em estágios) permitindo a otimização de funções diferentes com perdas arbitrárias. Em cada etapa, uma árvore de regressão está apta do gradiente negativo da função que terá a perda."
   ]
  },
  {
   "cell_type": "code",
   "execution_count": 16,
   "metadata": {},
   "outputs": [
    {
     "name": "stdout",
     "output_type": "stream",
     "text": [
      "Tempo de processamento do GradientBoostingRegressor : 194.75s\n",
      "\n",
      "\n",
      "RMSE MEAN:  0.2500\n",
      "RMSE STD:   0.0090 \n",
      "\n",
      "\n"
     ]
    },
    {
     "data": {
      "image/png": "[encoded data removed]",
      "text/plain": [
       "<Figure size 432x288 with 1 Axes>"
      ]
     },
     "metadata": {},
     "output_type": "display_data"
    }
   ],
   "source": [
    "from sklearn.ensemble import GradientBoostingRegressor\n",
    "start = time.time()\n",
    "\n",
    "rmse_list =[]\n",
    "X = matriz_train\n",
    "y = vetor_train_target\n",
    "kf = KFold(n_splits=n_splits);\n",
    "    \n",
    "# Validação cruzada    \n",
    "for train, test in kf.split(X):\n",
    "    X_train, X_test = X[train], X[test]\n",
    "    y_train, y_test = y[train], y[test]\n",
    "\n",
    "    # Criando Regressor Linear\n",
    "    regr = GradientBoostingRegressor(learning_rate = 0.01)\n",
    "\n",
    "    # Treino\n",
    "    regr.fit(X_train, y_train.toarray().ravel()) \n",
    "\n",
    "    # Predição     \n",
    "    y_pred = regr.predict(X_test)\n",
    "    \n",
    "    #Root mean squared error\n",
    "    rmse_list.append(np.sqrt(mean_squared_error(y_test.todense(), y_pred)));\n",
    "\n",
    "end = time.time()\n",
    "\n",
    "print('Tempo de processamento do GradientBoostingRegressor : '+str(\"%.2f\" % (end - start))+'s\\n\\n')\n",
    "print(\"RMSE MEAN: \",\"%.4f\" % np.mean(rmse_list))\n",
    "print(\"RMSE STD:  \",\"%.4f\" % np.std(rmse_list), '\\n\\n')\n",
    "\n",
    "plt.title(u\"Histograma - RMSE_MEAN: \" + str(\"%.3f\" % np.mean(rmse_list))+ \" RMSE_STD: \" + str(\"%.2f\" % np.std(rmse_list)))\n",
    "plt.ylabel(\"Quantity\")\n",
    "plt.xlabel(\"RMSE\")\n",
    "\n",
    "plt.hist(rmse_list,bins =30)\n",
    "plt.show()"
   ]
  },
  {
   "cell_type": "markdown",
   "metadata": {},
   "source": [
    "# Avaliando regressor SVM"
   ]
  },
  {
   "cell_type": "markdown",
   "metadata": {},
   "source": [
    "(Falta a explicação)"
   ]
  },
  {
   "cell_type": "code",
   "execution_count": 17,
   "metadata": {},
   "outputs": [
    {
     "name": "stdout",
     "output_type": "stream",
     "text": [
      "Tempo de processamento do regressor SVM: 78.28s\n",
      "\n",
      "\n",
      "RMSE MEAN:  0.2559\n",
      "RMSE STD:   0.0075 \n",
      "\n",
      "\n"
     ]
    },
    {
     "data": {
      "image/png": "[encoded data removed]",
      "text/plain": [
       "<Figure size 432x288 with 1 Axes>"
      ]
     },
     "metadata": {},
     "output_type": "display_data"
    }
   ],
   "source": [
    "from sklearn.svm import SVR\n",
    "start = time.time()\n",
    "\n",
    "rmse_list =[]\n",
    "X = matriz_train\n",
    "y = vetor_train_target\n",
    "kf = KFold(n_splits=n_splits);\n",
    "    \n",
    "# Validação cruzada    \n",
    "for train, test in kf.split(X):\n",
    "    X_train, X_test = X[train], X[test];\n",
    "    y_train, y_test = y[train], y[test];\n",
    "\n",
    "    # Criando Regressor SVM\n",
    "    regr = SVR('linear')\n",
    "    \n",
    "    # Treino\n",
    "    regr.fit(X_train, y_train.toarray().ravel()) \n",
    "\n",
    "    # Predição     \n",
    "    y_pred = regr.predict(X_test)\n",
    "    \n",
    "    #Root mean squared error\n",
    "    rmse_list.append(np.sqrt(mean_squared_error(y_test.todense(), y_pred)));\n",
    "\n",
    "end = time.time()\n",
    "\n",
    "print('Tempo de processamento do regressor SVM: '+str(\"%.2f\" % (end - start))+'s\\n\\n')\n",
    "print(\"RMSE MEAN: \",\"%.4f\" % np.mean(rmse_list))\n",
    "print(\"RMSE STD:  \",\"%.4f\" % np.std(rmse_list), '\\n\\n')\n",
    "\n",
    "plt.title(u\"Histograma - RMSE_MEAN: \" + str(\"%.3f\" % np.mean(rmse_list))+ \" RMSE_STD: \" + str(\"%.2f\" % np.std(rmse_list)))\n",
    "plt.ylabel(\"Quantity\")\n",
    "plt.xlabel(\"RMSE\")\n",
    "\n",
    "plt.hist(rmse_list,bins =30)\n",
    "plt.show()"
   ]
  },
  {
   "cell_type": "markdown",
   "metadata": {},
   "source": [
    "# Avaliando regresor KNN"
   ]
  },
  {
   "cell_type": "markdown",
   "metadata": {},
   "source": [
    "O regressor KNN utiliza uma função, cujo apenas aproxima localmente e toda a computação é adiada até a classificação."
   ]
  },
  {
   "cell_type": "code",
   "execution_count": 18,
   "metadata": {
    "scrolled": false
   },
   "outputs": [
    {
     "name": "stdout",
     "output_type": "stream",
     "text": [
      "Tempo de processamento do regressor KNN: 2.48s\n",
      "\n",
      "\n",
      "RMSE MEAN:  0.2427\n",
      "RMSE STD:   0.0103 \n",
      "\n",
      "\n"
     ]
    },
    {
     "data": {
      "image/png": "[encoded data removed]",
      "text/plain": [
       "<Figure size 432x288 with 1 Axes>"
      ]
     },
     "metadata": {},
     "output_type": "display_data"
    }
   ],
   "source": [
    "from sklearn.neighbors import KNeighborsRegressor\n",
    "start = time.time()\n",
    "\n",
    "rmse_list =[]\n",
    "X = matriz_train\n",
    "y = vetor_train_target\n",
    "kf = KFold(n_splits=n_splits);\n",
    "    \n",
    "# Validação cruzada    \n",
    "for train, test in kf.split(X):\n",
    "    X_train, X_test = X[train], X[test];\n",
    "    y_train, y_test = y[train], y[test];\n",
    "\n",
    "    # Criando Regressor KNN\n",
    "    regr = KNeighborsRegressor(algorithm='auto', leaf_size=50, metric='minkowski',\n",
    "                               metric_params=None, n_jobs=1, n_neighbors=30, p=2,\n",
    "                               weights='distance')\n",
    "    \n",
    "    # Treino\n",
    "    regr.fit(X_train, y_train.toarray().ravel()) \n",
    "\n",
    "    # Predição     \n",
    "    y_pred = regr.predict(X_test)\n",
    "    \n",
    "    #Root mean squared error\n",
    "    rmse_list.append(np.sqrt(mean_squared_error(y_test.todense(), y_pred)));\n",
    "\n",
    "end = time.time()\n",
    "\n",
    "print('Tempo de processamento do regressor KNN: '+str(\"%.2f\" % (end - start))+'s\\n\\n')\n",
    "print(\"RMSE MEAN: \",\"%.4f\" % np.mean(rmse_list))\n",
    "print(\"RMSE STD:  \",\"%.4f\" % np.std(rmse_list), '\\n\\n')\n",
    "\n",
    "plt.title(u\"Histograma - RMSE_MEAN: \" + str(\"%.3f\" % np.mean(rmse_list))+ \" RMSE_STD: \" + str(\"%.2f\" % np.std(rmse_list)))\n",
    "plt.ylabel(\"Quantity\")\n",
    "plt.xlabel(\"RMSE\")\n",
    "\n",
    "plt.hist(rmse_list,bins =30)\n",
    "plt.show()"
   ]
  },
  {
   "cell_type": "markdown",
   "metadata": {},
   "source": [
    "# Avaliando regressor LGBM"
   ]
  },
  {
   "cell_type": "markdown",
   "metadata": {},
   "source": [
    "(Falta a explicação)"
   ]
  },
  {
   "cell_type": "code",
   "execution_count": 19,
   "metadata": {},
   "outputs": [
    {
     "name": "stdout",
     "output_type": "stream",
     "text": [
      "Tempo de processamento do regressor LGBM: 3.25s\n",
      "\n",
      "\n",
      "RMSE MEAN:  0.2516\n",
      "RMSE STD:   0.0091 \n",
      "\n",
      "\n"
     ]
    },
    {
     "data": {
      "image/png": "[encoded data removed]",
      "text/plain": [
       "<Figure size 432x288 with 1 Axes>"
      ]
     },
     "metadata": {},
     "output_type": "display_data"
    }
   ],
   "source": [
    "from lightgbm import LGBMRegressor\n",
    "start = time.time()\n",
    "\n",
    "rmse_list =[]\n",
    "X = matriz_train\n",
    "y = vetor_train_target\n",
    "kf = KFold(n_splits=n_splits);\n",
    "    \n",
    "# Validação cruzada    \n",
    "for train, test in kf.split(X):\n",
    "    X_train, X_test = X[train], X[test];\n",
    "    y_train, y_test = y[train], y[test];\n",
    "\n",
    "    # Criando Regressor LGBM\n",
    "    regr = LGBMRegressor(boosting_type='gbdt', class_weight=None, colsample_bytree=1.0,\n",
    "                         learning_rate=0.05, max_depth=-1, min_child_samples=20,\n",
    "                         min_child_weight=0.001, min_split_gain=0.0, n_estimators=15,\n",
    "                         n_jobs=-1, num_leaves=5, objective='regression', random_state=None,\n",
    "                         reg_alpha=0.0, reg_lambda=0.0, silent=True, subsample=1.0,\n",
    "                         subsample_for_bin=200000, subsample_freq=1) \n",
    "    \n",
    "    # Treino\n",
    "    regr.fit(X_train, y_train.toarray().ravel(),  eval_metric='metric') \n",
    "\n",
    "    # Predição     \n",
    "    y_pred = regr.predict(X_test)\n",
    "    \n",
    "   #Root mean squared error\n",
    "    rmse_list.append(np.sqrt(mean_squared_error(y_test.todense(), y_pred)));\n",
    "\n",
    "end = time.time()\n",
    "\n",
    "print('Tempo de processamento do regressor LGBM: '+str(\"%.2f\" % (end - start))+'s\\n\\n')\n",
    "print(\"RMSE MEAN: \",\"%.4f\" % np.mean(rmse_list))\n",
    "print(\"RMSE STD:  \",\"%.4f\" % np.std(rmse_list), '\\n\\n')\n",
    "\n",
    "plt.title(u\"Histograma - RMSE_MEAN: \" + str(\"%.3f\" % np.mean(rmse_list))+ \" RMSE_STD: \" + str(\"%.2f\" % np.std(rmse_list)))\n",
    "plt.ylabel(\"Quantity\")\n",
    "plt.xlabel(\"RMSE\")\n",
    "\n",
    "plt.hist(rmse_list,bins =30)\n",
    "plt.show()"
   ]
  },
  {
   "cell_type": "markdown",
   "metadata": {},
   "source": [
    "# Avaliando regressor XGBoost"
   ]
  },
  {
   "cell_type": "markdown",
   "metadata": {},
   "source": [
    "(Falta a explicação)"
   ]
  },
  {
   "cell_type": "code",
   "execution_count": 20,
   "metadata": {},
   "outputs": [
    {
     "name": "stdout",
     "output_type": "stream",
     "text": [
      "Tempo de processamento do regressor linear: 14.84s\n",
      "\n",
      "\n",
      "RMSE MEAN:  0.2472\n",
      "RMSE STD:   0.0082 \n",
      "\n",
      "\n"
     ]
    },
    {
     "data": {
      "image/png": "[encoded data removed]",
      "text/plain": [
       "<Figure size 432x288 with 1 Axes>"
      ]
     },
     "metadata": {},
     "output_type": "display_data"
    }
   ],
   "source": [
    "from xgboost import XGBRegressor\n",
    "start = time.time()\n",
    "\n",
    "rmse_list =[]\n",
    "X = matriz_train\n",
    "y = vetor_train_target\n",
    "kf = KFold(n_splits=n_splits);\n",
    "    \n",
    "# Validação cruzada    \n",
    "for train, test in kf.split(X):\n",
    "    X_train, X_test = X[train], X[test];\n",
    "    y_train, y_test = y[train], y[test];\n",
    "        \n",
    "    # Criando Regressor Linear\n",
    "    regr = XGBRegressor(n_estimators=30)\n",
    "    \n",
    "    # Treino\n",
    "    regr.fit(X_train, y_train.toarray().ravel()) \n",
    "    \n",
    "    # Predição     \n",
    "    y_pred = regr.predict(X_test)\n",
    "    \n",
    "    #Root mean squared error\n",
    "    rmse_list.append(np.sqrt(mean_squared_error(y_test.todense(), y_pred)));\n",
    "\n",
    "end = time.time()\n",
    "\n",
    "print('Tempo de processamento do regressor linear: '+str(\"%.2f\" % (end - start))+'s\\n\\n')\n",
    "print(\"RMSE MEAN: \",\"%.4f\" % np.mean(rmse_list))\n",
    "print(\"RMSE STD:  \",\"%.4f\" % np.std(rmse_list), '\\n\\n')\n",
    "\n",
    "plt.title(u\"Histograma - RMSE_MEAN: \" + str(\"%.3f\" % np.mean(rmse_list))+ \" RMSE_STD: \" + str(\"%.2f\" % np.std(rmse_list)))\n",
    "plt.ylabel(\"Quantity\")\n",
    "plt.xlabel(\"RMSE\")\n",
    "\n",
    "plt.hist(rmse_list,bins =30)\n",
    "plt.show()"
   ]
  },
  {
   "cell_type": "markdown",
   "metadata": {},
   "source": [
    "# Combinando Regressores"
   ]
  },
  {
   "cell_type": "markdown",
   "metadata": {},
   "source": [
    "Em busca da melhoria dos resultados obtidos, decidimos fazer uso de Ensemblers, que são métodos que combinam previsões de diferentes modelos para a geração de uma previsão final de melhor desempenho. Fizemos neste trabalho, testes com Bagging, AdaBoosting e Stacking."
   ]
  },
  {
   "cell_type": "markdown",
   "metadata": {},
   "source": [
    "# Utilizando Bagging"
   ]
  },
  {
   "cell_type": "code",
   "execution_count": 27,
   "metadata": {
    "scrolled": true
   },
   "outputs": [
    {
     "name": "stdout",
     "output_type": "stream",
     "text": [
      "Tempo de processamento do regressor Bagging - Estimador: Ridge(alpha=29.0, copy_X=True, fit_intercept=True, max_iter=None,\n",
      "   normalize=False, random_state=None, solver='auto', tol=0.001) params: {'bootstrap': True, 'bootstrap_features': True, 'max_features': 0.5, 'max_samples': 0.5}: 1.39s\n",
      "\n",
      "RMSE MEAN:  0.2484\n",
      "RMSE STD:   0.0008\n",
      "\n",
      "\n",
      "Tempo de processamento do regressor Bagging - Estimador: Ridge(alpha=29.0, copy_X=True, fit_intercept=True, max_iter=None,\n",
      "   normalize=False, random_state=None, solver='auto', tol=0.001) params: {'bootstrap': True, 'bootstrap_features': True, 'max_features': 0.5, 'max_samples': 1.0}: 1.13s\n",
      "\n",
      "RMSE MEAN:  0.2451\n",
      "RMSE STD:   0.0015\n",
      "\n",
      "\n",
      "Tempo de processamento do regressor Bagging - Estimador: Ridge(alpha=29.0, copy_X=True, fit_intercept=True, max_iter=None,\n",
      "   normalize=False, random_state=None, solver='auto', tol=0.001) params: {'bootstrap': True, 'bootstrap_features': True, 'max_features': 1.0, 'max_samples': 0.5}: 1.74s\n",
      "\n",
      "RMSE MEAN:  0.2440\n",
      "RMSE STD:   0.0007\n",
      "\n",
      "\n",
      "Tempo de processamento do regressor Bagging - Estimador: Ridge(alpha=29.0, copy_X=True, fit_intercept=True, max_iter=None,\n",
      "   normalize=False, random_state=None, solver='auto', tol=0.001) params: {'bootstrap': True, 'bootstrap_features': True, 'max_features': 1.0, 'max_samples': 1.0}: 2.06s\n",
      "\n",
      "RMSE MEAN:  0.2426\n",
      "RMSE STD:   0.0012\n",
      "\n",
      "\n",
      "Tempo de processamento do regressor Bagging - Estimador: Ridge(alpha=29.0, copy_X=True, fit_intercept=True, max_iter=None,\n",
      "   normalize=False, random_state=None, solver='auto', tol=0.001) params: {'bootstrap': True, 'bootstrap_features': False, 'max_features': 0.5, 'max_samples': 0.5}: 1.25s\n",
      "\n",
      "RMSE MEAN:  0.2463\n",
      "RMSE STD:   0.0005\n",
      "\n",
      "\n",
      "Tempo de processamento do regressor Bagging - Estimador: Ridge(alpha=29.0, copy_X=True, fit_intercept=True, max_iter=None,\n",
      "   normalize=False, random_state=None, solver='auto', tol=0.001) params: {'bootstrap': True, 'bootstrap_features': False, 'max_features': 0.5, 'max_samples': 1.0}: 0.98s\n",
      "\n",
      "RMSE MEAN:  0.2440\n",
      "RMSE STD:   0.0007\n",
      "\n",
      "\n",
      "Tempo de processamento do regressor Bagging - Estimador: Ridge(alpha=29.0, copy_X=True, fit_intercept=True, max_iter=None,\n",
      "   normalize=False, random_state=None, solver='auto', tol=0.001) params: {'bootstrap': True, 'bootstrap_features': False, 'max_features': 1.0, 'max_samples': 0.5}: 1.47s\n",
      "\n",
      "RMSE MEAN:  0.2434\n",
      "RMSE STD:   0.0009\n",
      "\n",
      "\n",
      "Tempo de processamento do regressor Bagging - Estimador: Ridge(alpha=29.0, copy_X=True, fit_intercept=True, max_iter=None,\n",
      "   normalize=False, random_state=None, solver='auto', tol=0.001) params: {'bootstrap': True, 'bootstrap_features': False, 'max_features': 1.0, 'max_samples': 1.0}: 2.31s\n",
      "\n",
      "RMSE MEAN:  0.2421\n",
      "RMSE STD:   0.0008\n",
      "\n",
      "\n",
      "Tempo de processamento do regressor Bagging - Estimador: Ridge(alpha=29.0, copy_X=True, fit_intercept=True, max_iter=None,\n",
      "   normalize=False, random_state=None, solver='auto', tol=0.001) params: {'bootstrap': False, 'bootstrap_features': True, 'max_features': 0.5, 'max_samples': 0.5}: 1.47s\n",
      "\n",
      "RMSE MEAN:  0.2478\n",
      "RMSE STD:   0.0007\n",
      "\n",
      "\n",
      "Tempo de processamento do regressor Bagging - Estimador: Ridge(alpha=29.0, copy_X=True, fit_intercept=True, max_iter=None,\n",
      "   normalize=False, random_state=None, solver='auto', tol=0.001) params: {'bootstrap': False, 'bootstrap_features': True, 'max_features': 0.5, 'max_samples': 1.0}: 0.87s\n",
      "\n",
      "RMSE MEAN:  0.2443\n",
      "RMSE STD:   0.0008\n",
      "\n",
      "\n",
      "Tempo de processamento do regressor Bagging - Estimador: Ridge(alpha=29.0, copy_X=True, fit_intercept=True, max_iter=None,\n",
      "   normalize=False, random_state=None, solver='auto', tol=0.001) params: {'bootstrap': False, 'bootstrap_features': True, 'max_features': 1.0, 'max_samples': 0.5}: 1.78s\n",
      "\n",
      "RMSE MEAN:  0.2438\n",
      "RMSE STD:   0.0009\n",
      "\n",
      "\n",
      "Tempo de processamento do regressor Bagging - Estimador: Ridge(alpha=29.0, copy_X=True, fit_intercept=True, max_iter=None,\n",
      "   normalize=False, random_state=None, solver='auto', tol=0.001) params: {'bootstrap': False, 'bootstrap_features': True, 'max_features': 1.0, 'max_samples': 1.0}: 1.09s\n",
      "\n",
      "RMSE MEAN:  0.2422\n",
      "RMSE STD:   0.0007\n",
      "\n",
      "\n",
      "Tempo de processamento do regressor Bagging - Estimador: Ridge(alpha=29.0, copy_X=True, fit_intercept=True, max_iter=None,\n",
      "   normalize=False, random_state=None, solver='auto', tol=0.001) params: {'bootstrap': False, 'bootstrap_features': False, 'max_features': 0.5, 'max_samples': 0.5}: 1.03s\n",
      "\n",
      "RMSE MEAN:  0.2462\n",
      "RMSE STD:   0.0002\n",
      "\n",
      "\n",
      "Tempo de processamento do regressor Bagging - Estimador: Ridge(alpha=29.0, copy_X=True, fit_intercept=True, max_iter=None,\n",
      "   normalize=False, random_state=None, solver='auto', tol=0.001) params: {'bootstrap': False, 'bootstrap_features': False, 'max_features': 0.5, 'max_samples': 1.0}: 0.95s\n",
      "\n",
      "RMSE MEAN:  0.2441\n",
      "RMSE STD:   0.0004\n",
      "\n",
      "\n",
      "Tempo de processamento do regressor Bagging - Estimador: Ridge(alpha=29.0, copy_X=True, fit_intercept=True, max_iter=None,\n",
      "   normalize=False, random_state=None, solver='auto', tol=0.001) params: {'bootstrap': False, 'bootstrap_features': False, 'max_features': 1.0, 'max_samples': 0.5}: 0.86s\n",
      "\n",
      "RMSE MEAN:  0.2435\n",
      "RMSE STD:   0.0008\n",
      "\n",
      "\n",
      "Tempo de processamento do regressor Bagging - Estimador: Ridge(alpha=29.0, copy_X=True, fit_intercept=True, max_iter=None,\n",
      "   normalize=False, random_state=None, solver='auto', tol=0.001) params: {'bootstrap': False, 'bootstrap_features': False, 'max_features': 1.0, 'max_samples': 1.0}: 0.87s\n",
      "\n",
      "RMSE MEAN:  0.2419\n",
      "RMSE STD:   0.0008\n",
      "\n",
      "\n",
      "Tempo de processamento do regressor Bagging - Estimador: GradientBoostingRegressor(alpha=0.9, criterion='friedman_mse', init=None,\n",
      "             learning_rate=0.01, loss='ls', max_depth=3, max_features=None,\n",
      "             max_leaf_nodes=None, min_impurity_decrease=0.0,\n",
      "             min_impurity_split=None, min_samples_leaf=1,\n",
      "             min_samples_split=2, min_weight_fraction_leaf=0.0,\n",
      "             n_estimators=100, presort='auto', random_state=None,\n",
      "             subsample=1.0, verbose=0, warm_start=False) params: {'bootstrap': True, 'bootstrap_features': True, 'max_features': 0.5, 'max_samples': 0.5}: 25.15s\n",
      "\n",
      "RMSE MEAN:  0.2565\n",
      "RMSE STD:   0.0008\n",
      "\n",
      "\n",
      "Tempo de processamento do regressor Bagging - Estimador: GradientBoostingRegressor(alpha=0.9, criterion='friedman_mse', init=None,\n",
      "             learning_rate=0.01, loss='ls', max_depth=3, max_features=None,\n",
      "             max_leaf_nodes=None, min_impurity_decrease=0.0,\n",
      "             min_impurity_split=None, min_samples_leaf=1,\n",
      "             min_samples_split=2, min_weight_fraction_leaf=0.0,\n",
      "             n_estimators=100, presort='auto', random_state=None,\n",
      "             subsample=1.0, verbose=0, warm_start=False) params: {'bootstrap': True, 'bootstrap_features': True, 'max_features': 0.5, 'max_samples': 1.0}: 39.06s\n",
      "\n",
      "RMSE MEAN:  0.2543\n",
      "RMSE STD:   0.0002\n",
      "\n",
      "\n",
      "Tempo de processamento do regressor Bagging - Estimador: GradientBoostingRegressor(alpha=0.9, criterion='friedman_mse', init=None,\n",
      "             learning_rate=0.01, loss='ls', max_depth=3, max_features=None,\n",
      "             max_leaf_nodes=None, min_impurity_decrease=0.0,\n",
      "             min_impurity_split=None, min_samples_leaf=1,\n",
      "             min_samples_split=2, min_weight_fraction_leaf=0.0,\n",
      "             n_estimators=100, presort='auto', random_state=None,\n",
      "             subsample=1.0, verbose=0, warm_start=False) params: {'bootstrap': True, 'bootstrap_features': True, 'max_features': 1.0, 'max_samples': 0.5}: 51.13s\n",
      "\n",
      "RMSE MEAN:  0.2546\n",
      "RMSE STD:   0.0008\n",
      "\n",
      "\n"
     ]
    },
    {
     "ename": "KeyboardInterrupt",
     "evalue": "",
     "output_type": "error",
     "traceback": [
      "\u001b[0;31m---------------------------------------------------------------------------\u001b[0m",
      "\u001b[0;31mKeyboardInterrupt\u001b[0m                         Traceback (most recent call last)",
      "\u001b[0;32m<ipython-input-27-d4efe965bfbe>\u001b[0m in \u001b[0;36m<module>\u001b[0;34m()\u001b[0m\n\u001b[1;32m     50\u001b[0m \u001b[0;34m\u001b[0m\u001b[0m\n\u001b[1;32m     51\u001b[0m             \u001b[0;31m# Treino\u001b[0m\u001b[0;34m\u001b[0m\u001b[0;34m\u001b[0m\u001b[0m\n\u001b[0;32m---> 52\u001b[0;31m             \u001b[0mregr\u001b[0m\u001b[0;34m.\u001b[0m\u001b[0mfit\u001b[0m\u001b[0;34m(\u001b[0m\u001b[0mX_train\u001b[0m\u001b[0;34m,\u001b[0m \u001b[0my_train\u001b[0m\u001b[0;34m.\u001b[0m\u001b[0mtoarray\u001b[0m\u001b[0;34m(\u001b[0m\u001b[0;34m)\u001b[0m\u001b[0;34m.\u001b[0m\u001b[0mravel\u001b[0m\u001b[0;34m(\u001b[0m\u001b[0;34m)\u001b[0m\u001b[0;34m)\u001b[0m\u001b[0;34m\u001b[0m\u001b[0m\n\u001b[0m\u001b[1;32m     53\u001b[0m \u001b[0;34m\u001b[0m\u001b[0m\n\u001b[1;32m     54\u001b[0m             \u001b[0;31m# Predição\u001b[0m\u001b[0;34m\u001b[0m\u001b[0;34m\u001b[0m\u001b[0m\n",
      "\u001b[0;32m~/anaconda3/lib/python3.6/site-packages/sklearn/ensemble/bagging.py\u001b[0m in \u001b[0;36mfit\u001b[0;34m(self, X, y, sample_weight)\u001b[0m\n\u001b[1;32m    245\u001b[0m             \u001b[0mReturns\u001b[0m \u001b[0mself\u001b[0m\u001b[0;34m.\u001b[0m\u001b[0;34m\u001b[0m\u001b[0m\n\u001b[1;32m    246\u001b[0m         \"\"\"\n\u001b[0;32m--> 247\u001b[0;31m         \u001b[0;32mreturn\u001b[0m \u001b[0mself\u001b[0m\u001b[0;34m.\u001b[0m\u001b[0m_fit\u001b[0m\u001b[0;34m(\u001b[0m\u001b[0mX\u001b[0m\u001b[0;34m,\u001b[0m \u001b[0my\u001b[0m\u001b[0;34m,\u001b[0m \u001b[0mself\u001b[0m\u001b[0;34m.\u001b[0m\u001b[0mmax_samples\u001b[0m\u001b[0;34m,\u001b[0m \u001b[0msample_weight\u001b[0m\u001b[0;34m=\u001b[0m\u001b[0msample_weight\u001b[0m\u001b[0;34m)\u001b[0m\u001b[0;34m\u001b[0m\u001b[0m\n\u001b[0m\u001b[1;32m    248\u001b[0m \u001b[0;34m\u001b[0m\u001b[0m\n\u001b[1;32m    249\u001b[0m     \u001b[0;32mdef\u001b[0m \u001b[0m_fit\u001b[0m\u001b[0;34m(\u001b[0m\u001b[0mself\u001b[0m\u001b[0;34m,\u001b[0m \u001b[0mX\u001b[0m\u001b[0;34m,\u001b[0m \u001b[0my\u001b[0m\u001b[0;34m,\u001b[0m \u001b[0mmax_samples\u001b[0m\u001b[0;34m=\u001b[0m\u001b[0;32mNone\u001b[0m\u001b[0;34m,\u001b[0m \u001b[0mmax_depth\u001b[0m\u001b[0;34m=\u001b[0m\u001b[0;32mNone\u001b[0m\u001b[0;34m,\u001b[0m \u001b[0msample_weight\u001b[0m\u001b[0;34m=\u001b[0m\u001b[0;32mNone\u001b[0m\u001b[0;34m)\u001b[0m\u001b[0;34m:\u001b[0m\u001b[0;34m\u001b[0m\u001b[0m\n",
      "\u001b[0;32m~/anaconda3/lib/python3.6/site-packages/sklearn/ensemble/bagging.py\u001b[0m in \u001b[0;36m_fit\u001b[0;34m(self, X, y, max_samples, max_depth, sample_weight)\u001b[0m\n\u001b[1;32m    373\u001b[0m                 \u001b[0mtotal_n_estimators\u001b[0m\u001b[0;34m,\u001b[0m\u001b[0;34m\u001b[0m\u001b[0m\n\u001b[1;32m    374\u001b[0m                 verbose=self.verbose)\n\u001b[0;32m--> 375\u001b[0;31m             for i in range(n_jobs))\n\u001b[0m\u001b[1;32m    376\u001b[0m \u001b[0;34m\u001b[0m\u001b[0m\n\u001b[1;32m    377\u001b[0m         \u001b[0;31m# Reduce\u001b[0m\u001b[0;34m\u001b[0m\u001b[0;34m\u001b[0m\u001b[0m\n",
      "\u001b[0;32m~/anaconda3/lib/python3.6/site-packages/sklearn/externals/joblib/parallel.py\u001b[0m in \u001b[0;36m__call__\u001b[0;34m(self, iterable)\u001b[0m\n\u001b[1;32m    777\u001b[0m             \u001b[0;31m# was dispatched. In particular this covers the edge\u001b[0m\u001b[0;34m\u001b[0m\u001b[0;34m\u001b[0m\u001b[0m\n\u001b[1;32m    778\u001b[0m             \u001b[0;31m# case of Parallel used with an exhausted iterator.\u001b[0m\u001b[0;34m\u001b[0m\u001b[0;34m\u001b[0m\u001b[0m\n\u001b[0;32m--> 779\u001b[0;31m             \u001b[0;32mwhile\u001b[0m \u001b[0mself\u001b[0m\u001b[0;34m.\u001b[0m\u001b[0mdispatch_one_batch\u001b[0m\u001b[0;34m(\u001b[0m\u001b[0miterator\u001b[0m\u001b[0;34m)\u001b[0m\u001b[0;34m:\u001b[0m\u001b[0;34m\u001b[0m\u001b[0m\n\u001b[0m\u001b[1;32m    780\u001b[0m                 \u001b[0mself\u001b[0m\u001b[0;34m.\u001b[0m\u001b[0m_iterating\u001b[0m \u001b[0;34m=\u001b[0m \u001b[0;32mTrue\u001b[0m\u001b[0;34m\u001b[0m\u001b[0m\n\u001b[1;32m    781\u001b[0m             \u001b[0;32melse\u001b[0m\u001b[0;34m:\u001b[0m\u001b[0;34m\u001b[0m\u001b[0m\n",
      "\u001b[0;32m~/anaconda3/lib/python3.6/site-packages/sklearn/externals/joblib/parallel.py\u001b[0m in \u001b[0;36mdispatch_one_batch\u001b[0;34m(self, iterator)\u001b[0m\n\u001b[1;32m    623\u001b[0m                 \u001b[0;32mreturn\u001b[0m \u001b[0;32mFalse\u001b[0m\u001b[0;34m\u001b[0m\u001b[0m\n\u001b[1;32m    624\u001b[0m             \u001b[0;32melse\u001b[0m\u001b[0;34m:\u001b[0m\u001b[0;34m\u001b[0m\u001b[0m\n\u001b[0;32m--> 625\u001b[0;31m                 \u001b[0mself\u001b[0m\u001b[0;34m.\u001b[0m\u001b[0m_dispatch\u001b[0m\u001b[0;34m(\u001b[0m\u001b[0mtasks\u001b[0m\u001b[0;34m)\u001b[0m\u001b[0;34m\u001b[0m\u001b[0m\n\u001b[0m\u001b[1;32m    626\u001b[0m                 \u001b[0;32mreturn\u001b[0m \u001b[0;32mTrue\u001b[0m\u001b[0;34m\u001b[0m\u001b[0m\n\u001b[1;32m    627\u001b[0m \u001b[0;34m\u001b[0m\u001b[0m\n",
      "\u001b[0;32m~/anaconda3/lib/python3.6/site-packages/sklearn/externals/joblib/parallel.py\u001b[0m in \u001b[0;36m_dispatch\u001b[0;34m(self, batch)\u001b[0m\n\u001b[1;32m    586\u001b[0m         \u001b[0mdispatch_timestamp\u001b[0m \u001b[0;34m=\u001b[0m \u001b[0mtime\u001b[0m\u001b[0;34m.\u001b[0m\u001b[0mtime\u001b[0m\u001b[0;34m(\u001b[0m\u001b[0;34m)\u001b[0m\u001b[0;34m\u001b[0m\u001b[0m\n\u001b[1;32m    587\u001b[0m         \u001b[0mcb\u001b[0m \u001b[0;34m=\u001b[0m \u001b[0mBatchCompletionCallBack\u001b[0m\u001b[0;34m(\u001b[0m\u001b[0mdispatch_timestamp\u001b[0m\u001b[0;34m,\u001b[0m \u001b[0mlen\u001b[0m\u001b[0;34m(\u001b[0m\u001b[0mbatch\u001b[0m\u001b[0;34m)\u001b[0m\u001b[0;34m,\u001b[0m \u001b[0mself\u001b[0m\u001b[0;34m)\u001b[0m\u001b[0;34m\u001b[0m\u001b[0m\n\u001b[0;32m--> 588\u001b[0;31m         \u001b[0mjob\u001b[0m \u001b[0;34m=\u001b[0m \u001b[0mself\u001b[0m\u001b[0;34m.\u001b[0m\u001b[0m_backend\u001b[0m\u001b[0;34m.\u001b[0m\u001b[0mapply_async\u001b[0m\u001b[0;34m(\u001b[0m\u001b[0mbatch\u001b[0m\u001b[0;34m,\u001b[0m \u001b[0mcallback\u001b[0m\u001b[0;34m=\u001b[0m\u001b[0mcb\u001b[0m\u001b[0;34m)\u001b[0m\u001b[0;34m\u001b[0m\u001b[0m\n\u001b[0m\u001b[1;32m    589\u001b[0m         \u001b[0mself\u001b[0m\u001b[0;34m.\u001b[0m\u001b[0m_jobs\u001b[0m\u001b[0;34m.\u001b[0m\u001b[0mappend\u001b[0m\u001b[0;34m(\u001b[0m\u001b[0mjob\u001b[0m\u001b[0;34m)\u001b[0m\u001b[0;34m\u001b[0m\u001b[0m\n\u001b[1;32m    590\u001b[0m \u001b[0;34m\u001b[0m\u001b[0m\n",
      "\u001b[0;32m~/anaconda3/lib/python3.6/site-packages/sklearn/externals/joblib/_parallel_backends.py\u001b[0m in \u001b[0;36mapply_async\u001b[0;34m(self, func, callback)\u001b[0m\n\u001b[1;32m    109\u001b[0m     \u001b[0;32mdef\u001b[0m \u001b[0mapply_async\u001b[0m\u001b[0;34m(\u001b[0m\u001b[0mself\u001b[0m\u001b[0;34m,\u001b[0m \u001b[0mfunc\u001b[0m\u001b[0;34m,\u001b[0m \u001b[0mcallback\u001b[0m\u001b[0;34m=\u001b[0m\u001b[0;32mNone\u001b[0m\u001b[0;34m)\u001b[0m\u001b[0;34m:\u001b[0m\u001b[0;34m\u001b[0m\u001b[0m\n\u001b[1;32m    110\u001b[0m         \u001b[0;34m\"\"\"Schedule a func to be run\"\"\"\u001b[0m\u001b[0;34m\u001b[0m\u001b[0m\n\u001b[0;32m--> 111\u001b[0;31m         \u001b[0mresult\u001b[0m \u001b[0;34m=\u001b[0m \u001b[0mImmediateResult\u001b[0m\u001b[0;34m(\u001b[0m\u001b[0mfunc\u001b[0m\u001b[0;34m)\u001b[0m\u001b[0;34m\u001b[0m\u001b[0m\n\u001b[0m\u001b[1;32m    112\u001b[0m         \u001b[0;32mif\u001b[0m \u001b[0mcallback\u001b[0m\u001b[0;34m:\u001b[0m\u001b[0;34m\u001b[0m\u001b[0m\n\u001b[1;32m    113\u001b[0m             \u001b[0mcallback\u001b[0m\u001b[0;34m(\u001b[0m\u001b[0mresult\u001b[0m\u001b[0;34m)\u001b[0m\u001b[0;34m\u001b[0m\u001b[0m\n",
      "\u001b[0;32m~/anaconda3/lib/python3.6/site-packages/sklearn/externals/joblib/_parallel_backends.py\u001b[0m in \u001b[0;36m__init__\u001b[0;34m(self, batch)\u001b[0m\n\u001b[1;32m    330\u001b[0m         \u001b[0;31m# Don't delay the application, to avoid keeping the input\u001b[0m\u001b[0;34m\u001b[0m\u001b[0;34m\u001b[0m\u001b[0m\n\u001b[1;32m    331\u001b[0m         \u001b[0;31m# arguments in memory\u001b[0m\u001b[0;34m\u001b[0m\u001b[0;34m\u001b[0m\u001b[0m\n\u001b[0;32m--> 332\u001b[0;31m         \u001b[0mself\u001b[0m\u001b[0;34m.\u001b[0m\u001b[0mresults\u001b[0m \u001b[0;34m=\u001b[0m \u001b[0mbatch\u001b[0m\u001b[0;34m(\u001b[0m\u001b[0;34m)\u001b[0m\u001b[0;34m\u001b[0m\u001b[0m\n\u001b[0m\u001b[1;32m    333\u001b[0m \u001b[0;34m\u001b[0m\u001b[0m\n\u001b[1;32m    334\u001b[0m     \u001b[0;32mdef\u001b[0m \u001b[0mget\u001b[0m\u001b[0;34m(\u001b[0m\u001b[0mself\u001b[0m\u001b[0;34m)\u001b[0m\u001b[0;34m:\u001b[0m\u001b[0;34m\u001b[0m\u001b[0m\n",
      "\u001b[0;32m~/anaconda3/lib/python3.6/site-packages/sklearn/externals/joblib/parallel.py\u001b[0m in \u001b[0;36m__call__\u001b[0;34m(self)\u001b[0m\n\u001b[1;32m    129\u001b[0m \u001b[0;34m\u001b[0m\u001b[0m\n\u001b[1;32m    130\u001b[0m     \u001b[0;32mdef\u001b[0m \u001b[0m__call__\u001b[0m\u001b[0;34m(\u001b[0m\u001b[0mself\u001b[0m\u001b[0;34m)\u001b[0m\u001b[0;34m:\u001b[0m\u001b[0;34m\u001b[0m\u001b[0m\n\u001b[0;32m--> 131\u001b[0;31m         \u001b[0;32mreturn\u001b[0m \u001b[0;34m[\u001b[0m\u001b[0mfunc\u001b[0m\u001b[0;34m(\u001b[0m\u001b[0;34m*\u001b[0m\u001b[0margs\u001b[0m\u001b[0;34m,\u001b[0m \u001b[0;34m**\u001b[0m\u001b[0mkwargs\u001b[0m\u001b[0;34m)\u001b[0m \u001b[0;32mfor\u001b[0m \u001b[0mfunc\u001b[0m\u001b[0;34m,\u001b[0m \u001b[0margs\u001b[0m\u001b[0;34m,\u001b[0m \u001b[0mkwargs\u001b[0m \u001b[0;32min\u001b[0m \u001b[0mself\u001b[0m\u001b[0;34m.\u001b[0m\u001b[0mitems\u001b[0m\u001b[0;34m]\u001b[0m\u001b[0;34m\u001b[0m\u001b[0m\n\u001b[0m\u001b[1;32m    132\u001b[0m \u001b[0;34m\u001b[0m\u001b[0m\n\u001b[1;32m    133\u001b[0m     \u001b[0;32mdef\u001b[0m \u001b[0m__len__\u001b[0m\u001b[0;34m(\u001b[0m\u001b[0mself\u001b[0m\u001b[0;34m)\u001b[0m\u001b[0;34m:\u001b[0m\u001b[0;34m\u001b[0m\u001b[0m\n",
      "\u001b[0;32m~/anaconda3/lib/python3.6/site-packages/sklearn/externals/joblib/parallel.py\u001b[0m in \u001b[0;36m<listcomp>\u001b[0;34m(.0)\u001b[0m\n\u001b[1;32m    129\u001b[0m \u001b[0;34m\u001b[0m\u001b[0m\n\u001b[1;32m    130\u001b[0m     \u001b[0;32mdef\u001b[0m \u001b[0m__call__\u001b[0m\u001b[0;34m(\u001b[0m\u001b[0mself\u001b[0m\u001b[0;34m)\u001b[0m\u001b[0;34m:\u001b[0m\u001b[0;34m\u001b[0m\u001b[0m\n\u001b[0;32m--> 131\u001b[0;31m         \u001b[0;32mreturn\u001b[0m \u001b[0;34m[\u001b[0m\u001b[0mfunc\u001b[0m\u001b[0;34m(\u001b[0m\u001b[0;34m*\u001b[0m\u001b[0margs\u001b[0m\u001b[0;34m,\u001b[0m \u001b[0;34m**\u001b[0m\u001b[0mkwargs\u001b[0m\u001b[0;34m)\u001b[0m \u001b[0;32mfor\u001b[0m \u001b[0mfunc\u001b[0m\u001b[0;34m,\u001b[0m \u001b[0margs\u001b[0m\u001b[0;34m,\u001b[0m \u001b[0mkwargs\u001b[0m \u001b[0;32min\u001b[0m \u001b[0mself\u001b[0m\u001b[0;34m.\u001b[0m\u001b[0mitems\u001b[0m\u001b[0;34m]\u001b[0m\u001b[0;34m\u001b[0m\u001b[0m\n\u001b[0m\u001b[1;32m    132\u001b[0m \u001b[0;34m\u001b[0m\u001b[0m\n\u001b[1;32m    133\u001b[0m     \u001b[0;32mdef\u001b[0m \u001b[0m__len__\u001b[0m\u001b[0;34m(\u001b[0m\u001b[0mself\u001b[0m\u001b[0;34m)\u001b[0m\u001b[0;34m:\u001b[0m\u001b[0;34m\u001b[0m\u001b[0m\n",
      "\u001b[0;32m~/anaconda3/lib/python3.6/site-packages/sklearn/ensemble/bagging.py\u001b[0m in \u001b[0;36m_parallel_build_estimators\u001b[0;34m(n_estimators, ensemble, X, y, sample_weight, seeds, total_n_estimators, verbose)\u001b[0m\n\u001b[1;32m    110\u001b[0m                 \u001b[0mcurr_sample_weight\u001b[0m\u001b[0;34m[\u001b[0m\u001b[0mnot_indices_mask\u001b[0m\u001b[0;34m]\u001b[0m \u001b[0;34m=\u001b[0m \u001b[0;36m0\u001b[0m\u001b[0;34m\u001b[0m\u001b[0m\n\u001b[1;32m    111\u001b[0m \u001b[0;34m\u001b[0m\u001b[0m\n\u001b[0;32m--> 112\u001b[0;31m             \u001b[0mestimator\u001b[0m\u001b[0;34m.\u001b[0m\u001b[0mfit\u001b[0m\u001b[0;34m(\u001b[0m\u001b[0mX\u001b[0m\u001b[0;34m[\u001b[0m\u001b[0;34m:\u001b[0m\u001b[0;34m,\u001b[0m \u001b[0mfeatures\u001b[0m\u001b[0;34m]\u001b[0m\u001b[0;34m,\u001b[0m \u001b[0my\u001b[0m\u001b[0;34m,\u001b[0m \u001b[0msample_weight\u001b[0m\u001b[0;34m=\u001b[0m\u001b[0mcurr_sample_weight\u001b[0m\u001b[0;34m)\u001b[0m\u001b[0;34m\u001b[0m\u001b[0m\n\u001b[0m\u001b[1;32m    113\u001b[0m \u001b[0;34m\u001b[0m\u001b[0m\n\u001b[1;32m    114\u001b[0m         \u001b[0;31m# Draw samples, using a mask, and then fit\u001b[0m\u001b[0;34m\u001b[0m\u001b[0;34m\u001b[0m\u001b[0m\n",
      "\u001b[0;32m~/anaconda3/lib/python3.6/site-packages/sklearn/ensemble/gradient_boosting.py\u001b[0m in \u001b[0;36mfit\u001b[0;34m(self, X, y, sample_weight, monitor)\u001b[0m\n\u001b[1;32m   1032\u001b[0m         \u001b[0;31m# fit the boosting stages\u001b[0m\u001b[0;34m\u001b[0m\u001b[0;34m\u001b[0m\u001b[0m\n\u001b[1;32m   1033\u001b[0m         n_stages = self._fit_stages(X, y, y_pred, sample_weight, random_state,\n\u001b[0;32m-> 1034\u001b[0;31m                                     begin_at_stage, monitor, X_idx_sorted)\n\u001b[0m\u001b[1;32m   1035\u001b[0m         \u001b[0;31m# change shape of arrays after fit (early-stopping or additional ests)\u001b[0m\u001b[0;34m\u001b[0m\u001b[0;34m\u001b[0m\u001b[0m\n\u001b[1;32m   1036\u001b[0m         \u001b[0;32mif\u001b[0m \u001b[0mn_stages\u001b[0m \u001b[0;34m!=\u001b[0m \u001b[0mself\u001b[0m\u001b[0;34m.\u001b[0m\u001b[0mestimators_\u001b[0m\u001b[0;34m.\u001b[0m\u001b[0mshape\u001b[0m\u001b[0;34m[\u001b[0m\u001b[0;36m0\u001b[0m\u001b[0;34m]\u001b[0m\u001b[0;34m:\u001b[0m\u001b[0;34m\u001b[0m\u001b[0m\n",
      "\u001b[0;32m~/anaconda3/lib/python3.6/site-packages/sklearn/ensemble/gradient_boosting.py\u001b[0m in \u001b[0;36m_fit_stages\u001b[0;34m(self, X, y, y_pred, sample_weight, random_state, begin_at_stage, monitor, X_idx_sorted)\u001b[0m\n\u001b[1;32m   1087\u001b[0m             y_pred = self._fit_stage(i, X, y, y_pred, sample_weight,\n\u001b[1;32m   1088\u001b[0m                                      \u001b[0msample_mask\u001b[0m\u001b[0;34m,\u001b[0m \u001b[0mrandom_state\u001b[0m\u001b[0;34m,\u001b[0m \u001b[0mX_idx_sorted\u001b[0m\u001b[0;34m,\u001b[0m\u001b[0;34m\u001b[0m\u001b[0m\n\u001b[0;32m-> 1089\u001b[0;31m                                      X_csc, X_csr)\n\u001b[0m\u001b[1;32m   1090\u001b[0m \u001b[0;34m\u001b[0m\u001b[0m\n\u001b[1;32m   1091\u001b[0m             \u001b[0;31m# track deviance (= loss)\u001b[0m\u001b[0;34m\u001b[0m\u001b[0;34m\u001b[0m\u001b[0m\n",
      "\u001b[0;32m~/anaconda3/lib/python3.6/site-packages/sklearn/ensemble/gradient_boosting.py\u001b[0m in \u001b[0;36m_fit_stage\u001b[0;34m(self, i, X, y, y_pred, sample_weight, sample_mask, random_state, X_idx_sorted, X_csc, X_csr)\u001b[0m\n\u001b[1;32m    783\u001b[0m             \u001b[0;32mif\u001b[0m \u001b[0mX_csc\u001b[0m \u001b[0;32mis\u001b[0m \u001b[0;32mnot\u001b[0m \u001b[0;32mNone\u001b[0m\u001b[0;34m:\u001b[0m\u001b[0;34m\u001b[0m\u001b[0m\n\u001b[1;32m    784\u001b[0m                 tree.fit(X_csc, residual, sample_weight=sample_weight,\n\u001b[0;32m--> 785\u001b[0;31m                          check_input=False, X_idx_sorted=X_idx_sorted)\n\u001b[0m\u001b[1;32m    786\u001b[0m             \u001b[0;32melse\u001b[0m\u001b[0;34m:\u001b[0m\u001b[0;34m\u001b[0m\u001b[0m\n\u001b[1;32m    787\u001b[0m                 tree.fit(X, residual, sample_weight=sample_weight,\n",
      "\u001b[0;32m~/anaconda3/lib/python3.6/site-packages/sklearn/tree/tree.py\u001b[0m in \u001b[0;36mfit\u001b[0;34m(self, X, y, sample_weight, check_input, X_idx_sorted)\u001b[0m\n\u001b[1;32m   1122\u001b[0m             \u001b[0msample_weight\u001b[0m\u001b[0;34m=\u001b[0m\u001b[0msample_weight\u001b[0m\u001b[0;34m,\u001b[0m\u001b[0;34m\u001b[0m\u001b[0m\n\u001b[1;32m   1123\u001b[0m             \u001b[0mcheck_input\u001b[0m\u001b[0;34m=\u001b[0m\u001b[0mcheck_input\u001b[0m\u001b[0;34m,\u001b[0m\u001b[0;34m\u001b[0m\u001b[0m\n\u001b[0;32m-> 1124\u001b[0;31m             X_idx_sorted=X_idx_sorted)\n\u001b[0m\u001b[1;32m   1125\u001b[0m         \u001b[0;32mreturn\u001b[0m \u001b[0mself\u001b[0m\u001b[0;34m\u001b[0m\u001b[0m\n\u001b[1;32m   1126\u001b[0m \u001b[0;34m\u001b[0m\u001b[0m\n",
      "\u001b[0;32m~/anaconda3/lib/python3.6/site-packages/sklearn/tree/tree.py\u001b[0m in \u001b[0;36mfit\u001b[0;34m(self, X, y, sample_weight, check_input, X_idx_sorted)\u001b[0m\n\u001b[1;32m    360\u001b[0m                                            min_impurity_split)\n\u001b[1;32m    361\u001b[0m \u001b[0;34m\u001b[0m\u001b[0m\n\u001b[0;32m--> 362\u001b[0;31m         \u001b[0mbuilder\u001b[0m\u001b[0;34m.\u001b[0m\u001b[0mbuild\u001b[0m\u001b[0;34m(\u001b[0m\u001b[0mself\u001b[0m\u001b[0;34m.\u001b[0m\u001b[0mtree_\u001b[0m\u001b[0;34m,\u001b[0m \u001b[0mX\u001b[0m\u001b[0;34m,\u001b[0m \u001b[0my\u001b[0m\u001b[0;34m,\u001b[0m \u001b[0msample_weight\u001b[0m\u001b[0;34m,\u001b[0m \u001b[0mX_idx_sorted\u001b[0m\u001b[0;34m)\u001b[0m\u001b[0;34m\u001b[0m\u001b[0m\n\u001b[0m\u001b[1;32m    363\u001b[0m \u001b[0;34m\u001b[0m\u001b[0m\n\u001b[1;32m    364\u001b[0m         \u001b[0;32mif\u001b[0m \u001b[0mself\u001b[0m\u001b[0;34m.\u001b[0m\u001b[0mn_outputs_\u001b[0m \u001b[0;34m==\u001b[0m \u001b[0;36m1\u001b[0m\u001b[0;34m:\u001b[0m\u001b[0;34m\u001b[0m\u001b[0m\n",
      "\u001b[0;31mKeyboardInterrupt\u001b[0m: "
     ]
    }
   ],
   "source": [
    "from sklearn.model_selection import ParameterGrid\n",
    "from sklearn.linear_model import LinearRegression\n",
    "from sklearn.svm import SVR\n",
    "from sklearn.tree import DecisionTreeRegressor\n",
    "from sklearn.dummy import DummyRegressor\n",
    "from sklearn.neighbors import KNeighborsRegressor\n",
    "from sklearn.ensemble import GradientBoostingRegressor\n",
    "from sklearn.linear_model import Ridge\n",
    "from sklearn.utils import check_random_state\n",
    "from sklearn.ensemble import BaggingRegressor\n",
    "#from lightgbm import LGBMRegressor\n",
    "from xgboost import XGBRegressor\n",
    "\n",
    "#randomState = check_random_state(0)\n",
    "rmse_list =[]\n",
    "X = matriz_train\n",
    "y = vetor_train_target\n",
    "kf = KFold(n_splits=2);\n",
    "\n",
    "\n",
    "# Parametros a serem variados no bagging\n",
    "grid = ParameterGrid({\"max_samples\": [0.5, 1.0],\n",
    "                      \"max_features\": [0.5, 1.0],\n",
    "                      \"bootstrap\": [True, False],\n",
    "                      \"bootstrap_features\": [True, False]})\n",
    "\n",
    "# Testando cada estimador com cada configuração de parametros\n",
    "\n",
    "for base_estimator in [ \n",
    "                        Ridge(alpha = 29.0),\n",
    "                        GradientBoostingRegressor(learning_rate = 0.01),\n",
    "                        DummyRegressor(),\n",
    "                        DecisionTreeRegressor(),\n",
    "                        SVR(),\n",
    "                        KNeighborsRegressor(),\n",
    "                        #LGBMRegressor(objective='regression', num_leaves=5, learning_rate=0.05, n_estimators=15),\n",
    "                        XGBRegressor()]:\n",
    "    for params in grid:\n",
    "        start = time.time()\n",
    "        \n",
    "        rmse_list =[]\n",
    "\n",
    "        for train, test in kf.split(X):\n",
    "            X_train, X_test = X[train], X[test];\n",
    "            y_train, y_test = y[train], y[test];\n",
    "            \n",
    "            # Criando Regressor Bagging\n",
    "            regr = BaggingRegressor(base_estimator=base_estimator,\n",
    "                                 **params)\n",
    "\n",
    "            # Treino\n",
    "            regr.fit(X_train, y_train.toarray().ravel()) \n",
    "\n",
    "            # Predição     \n",
    "            y_pred = regr.predict(X_test)\n",
    "\n",
    "            #Root mean squared error\n",
    "            rmse_list.append(np.sqrt(mean_squared_error(y_test.todense(), y_pred)));\n",
    "            end = time.time()\n",
    "\n",
    "        print('Tempo de processamento do regressor Bagging - Estimador: ' + str(base_estimator) + ' params: ' + str(params) + ': '+str(\"%.2f\" % (end - start))+'s\\n')\n",
    "        print(\"RMSE MEAN: \",\"%.4f\" % np.mean(rmse_list))\n",
    "        print(\"RMSE STD:  \",\"%.4f\" % np.std(rmse_list))\n",
    "        print(\"\\n\")"
   ]
  },
  {
   "cell_type": "markdown",
   "metadata": {},
   "source": [
    "## Utlizando AdaBoosting"
   ]
  },
  {
   "cell_type": "code",
   "execution_count": 28,
   "metadata": {},
   "outputs": [
    {
     "name": "stdout",
     "output_type": "stream",
     "text": [
      "Tempo de processamento do regressor Adaboost - Estimador: Ridge(alpha=29.0, copy_X=True, fit_intercept=True, max_iter=None,\n",
      "   normalize=False, random_state=None, solver='auto', tol=0.001) params: {'loss': 'linear'}: 5.18s\n",
      "\n",
      "RMSE MEAN:  0.2532\n",
      "RMSE STD:   0.0041\n",
      "\n",
      "\n",
      "Tempo de processamento do regressor Adaboost - Estimador: Ridge(alpha=29.0, copy_X=True, fit_intercept=True, max_iter=None,\n",
      "   normalize=False, random_state=None, solver='auto', tol=0.001) params: {'loss': 'square'}: 19.94s\n",
      "\n",
      "RMSE MEAN:  0.3031\n",
      "RMSE STD:   0.0024\n",
      "\n",
      "\n",
      "Tempo de processamento do regressor Adaboost - Estimador: Ridge(alpha=29.0, copy_X=True, fit_intercept=True, max_iter=None,\n",
      "   normalize=False, random_state=None, solver='auto', tol=0.001) params: {'loss': 'exponential'}: 22.50s\n",
      "\n",
      "RMSE MEAN:  0.2843\n",
      "RMSE STD:   0.0017\n",
      "\n",
      "\n",
      "Tempo de processamento do regressor Adaboost - Estimador: GradientBoostingRegressor(alpha=0.9, criterion='friedman_mse', init=None,\n",
      "             learning_rate=0.01, loss='ls', max_depth=3, max_features=None,\n",
      "             max_leaf_nodes=None, min_impurity_decrease=0.0,\n",
      "             min_impurity_split=None, min_samples_leaf=1,\n",
      "             min_samples_split=2, min_weight_fraction_leaf=0.0,\n",
      "             n_estimators=100, presort='auto', random_state=None,\n",
      "             subsample=1.0, verbose=0, warm_start=False) params: {'loss': 'linear'}: 39.99s\n",
      "\n",
      "RMSE MEAN:  0.2530\n",
      "RMSE STD:   0.0002\n",
      "\n",
      "\n",
      "Tempo de processamento do regressor Adaboost - Estimador: GradientBoostingRegressor(alpha=0.9, criterion='friedman_mse', init=None,\n",
      "             learning_rate=0.01, loss='ls', max_depth=3, max_features=None,\n",
      "             max_leaf_nodes=None, min_impurity_decrease=0.0,\n",
      "             min_impurity_split=None, min_samples_leaf=1,\n",
      "             min_samples_split=2, min_weight_fraction_leaf=0.0,\n",
      "             n_estimators=100, presort='auto', random_state=None,\n",
      "             subsample=1.0, verbose=0, warm_start=False) params: {'loss': 'square'}: 69.72s\n",
      "\n",
      "RMSE MEAN:  0.3210\n",
      "RMSE STD:   0.0041\n",
      "\n",
      "\n",
      "Tempo de processamento do regressor Adaboost - Estimador: GradientBoostingRegressor(alpha=0.9, criterion='friedman_mse', init=None,\n",
      "             learning_rate=0.01, loss='ls', max_depth=3, max_features=None,\n",
      "             max_leaf_nodes=None, min_impurity_decrease=0.0,\n",
      "             min_impurity_split=None, min_samples_leaf=1,\n",
      "             min_samples_split=2, min_weight_fraction_leaf=0.0,\n",
      "             n_estimators=100, presort='auto', random_state=None,\n",
      "             subsample=1.0, verbose=0, warm_start=False) params: {'loss': 'exponential'}: 193.68s\n",
      "\n",
      "RMSE MEAN:  0.2972\n",
      "RMSE STD:   0.0033\n",
      "\n",
      "\n",
      "Tempo de processamento do regressor Adaboost - Estimador: DummyRegressor(constant=None, quantile=None, strategy='mean') params: {'loss': 'linear'}: 0.04s\n",
      "\n",
      "RMSE MEAN:  0.2652\n",
      "RMSE STD:   0.0000\n",
      "\n",
      "\n",
      "Tempo de processamento do regressor Adaboost - Estimador: DummyRegressor(constant=None, quantile=None, strategy='mean') params: {'loss': 'square'}: 0.03s\n",
      "\n",
      "RMSE MEAN:  0.2651\n",
      "RMSE STD:   0.0000\n",
      "\n",
      "\n",
      "Tempo de processamento do regressor Adaboost - Estimador: DummyRegressor(constant=None, quantile=None, strategy='mean') params: {'loss': 'exponential'}: 0.25s\n",
      "\n",
      "RMSE MEAN:  0.3167\n",
      "RMSE STD:   0.0000\n",
      "\n",
      "\n",
      "Tempo de processamento do regressor Adaboost - Estimador: DecisionTreeRegressor(criterion='mse', max_depth=None, max_features=None,\n",
      "           max_leaf_nodes=None, min_impurity_decrease=0.0,\n",
      "           min_impurity_split=None, min_samples_leaf=1,\n",
      "           min_samples_split=2, min_weight_fraction_leaf=0.0,\n",
      "           presort=False, random_state=None, splitter='best') params: {'loss': 'linear'}: 54.09s\n",
      "\n",
      "RMSE MEAN:  0.2764\n",
      "RMSE STD:   0.0002\n",
      "\n",
      "\n",
      "Tempo de processamento do regressor Adaboost - Estimador: DecisionTreeRegressor(criterion='mse', max_depth=None, max_features=None,\n",
      "           max_leaf_nodes=None, min_impurity_decrease=0.0,\n",
      "           min_impurity_split=None, min_samples_leaf=1,\n",
      "           min_samples_split=2, min_weight_fraction_leaf=0.0,\n",
      "           presort=False, random_state=None, splitter='best') params: {'loss': 'square'}: 50.32s\n",
      "\n",
      "RMSE MEAN:  0.2857\n",
      "RMSE STD:   0.0020\n",
      "\n",
      "\n",
      "Tempo de processamento do regressor Adaboost - Estimador: DecisionTreeRegressor(criterion='mse', max_depth=None, max_features=None,\n",
      "           max_leaf_nodes=None, min_impurity_decrease=0.0,\n",
      "           min_impurity_split=None, min_samples_leaf=1,\n",
      "           min_samples_split=2, min_weight_fraction_leaf=0.0,\n",
      "           presort=False, random_state=None, splitter='best') params: {'loss': 'exponential'}: 62.07s\n",
      "\n",
      "RMSE MEAN:  0.2776\n",
      "RMSE STD:   0.0015\n",
      "\n",
      "\n",
      "Tempo de processamento do regressor Adaboost - Estimador: SVR(C=1.0, cache_size=200, coef0=0.0, degree=3, epsilon=0.1, gamma='auto',\n",
      "  kernel='rbf', max_iter=-1, shrinking=True, tol=0.001, verbose=False) params: {'loss': 'linear'}: 28.12s\n",
      "\n",
      "RMSE MEAN:  0.2673\n",
      "RMSE STD:   0.0003\n",
      "\n",
      "\n",
      "Tempo de processamento do regressor Adaboost - Estimador: SVR(C=1.0, cache_size=200, coef0=0.0, degree=3, epsilon=0.1, gamma='auto',\n",
      "  kernel='rbf', max_iter=-1, shrinking=True, tol=0.001, verbose=False) params: {'loss': 'square'}: 305.63s\n",
      "\n",
      "RMSE MEAN:  0.2617\n",
      "RMSE STD:   0.0055\n",
      "\n",
      "\n"
     ]
    },
    {
     "ename": "KeyboardInterrupt",
     "evalue": "",
     "output_type": "error",
     "traceback": [
      "\u001b[0;31m---------------------------------------------------------------------------\u001b[0m",
      "\u001b[0;31mKeyboardInterrupt\u001b[0m                         Traceback (most recent call last)",
      "\u001b[0;32m<ipython-input-28-e31435497122>\u001b[0m in \u001b[0;36m<module>\u001b[0;34m()\u001b[0m\n\u001b[1;32m     54\u001b[0m \u001b[0;34m\u001b[0m\u001b[0m\n\u001b[1;32m     55\u001b[0m             \u001b[0;31m# Predição\u001b[0m\u001b[0;34m\u001b[0m\u001b[0;34m\u001b[0m\u001b[0m\n\u001b[0;32m---> 56\u001b[0;31m             \u001b[0my_pred\u001b[0m \u001b[0;34m=\u001b[0m \u001b[0mregr\u001b[0m\u001b[0;34m.\u001b[0m\u001b[0mpredict\u001b[0m\u001b[0;34m(\u001b[0m\u001b[0mX_test\u001b[0m\u001b[0;34m)\u001b[0m\u001b[0;34m\u001b[0m\u001b[0m\n\u001b[0m\u001b[1;32m     57\u001b[0m \u001b[0;34m\u001b[0m\u001b[0m\n\u001b[1;32m     58\u001b[0m             \u001b[0;31m#Root mean squared error\u001b[0m\u001b[0;34m\u001b[0m\u001b[0;34m\u001b[0m\u001b[0m\n",
      "\u001b[0;32m~/anaconda3/lib/python3.6/site-packages/sklearn/ensemble/weight_boosting.py\u001b[0m in \u001b[0;36mpredict\u001b[0;34m(self, X)\u001b[0m\n\u001b[1;32m   1094\u001b[0m         \u001b[0mX\u001b[0m \u001b[0;34m=\u001b[0m \u001b[0mself\u001b[0m\u001b[0;34m.\u001b[0m\u001b[0m_validate_X_predict\u001b[0m\u001b[0;34m(\u001b[0m\u001b[0mX\u001b[0m\u001b[0;34m)\u001b[0m\u001b[0;34m\u001b[0m\u001b[0m\n\u001b[1;32m   1095\u001b[0m \u001b[0;34m\u001b[0m\u001b[0m\n\u001b[0;32m-> 1096\u001b[0;31m         \u001b[0;32mreturn\u001b[0m \u001b[0mself\u001b[0m\u001b[0;34m.\u001b[0m\u001b[0m_get_median_predict\u001b[0m\u001b[0;34m(\u001b[0m\u001b[0mX\u001b[0m\u001b[0;34m,\u001b[0m \u001b[0mlen\u001b[0m\u001b[0;34m(\u001b[0m\u001b[0mself\u001b[0m\u001b[0;34m.\u001b[0m\u001b[0mestimators_\u001b[0m\u001b[0;34m)\u001b[0m\u001b[0;34m)\u001b[0m\u001b[0;34m\u001b[0m\u001b[0m\n\u001b[0m\u001b[1;32m   1097\u001b[0m \u001b[0;34m\u001b[0m\u001b[0m\n\u001b[1;32m   1098\u001b[0m     \u001b[0;32mdef\u001b[0m \u001b[0mstaged_predict\u001b[0m\u001b[0;34m(\u001b[0m\u001b[0mself\u001b[0m\u001b[0;34m,\u001b[0m \u001b[0mX\u001b[0m\u001b[0;34m)\u001b[0m\u001b[0;34m:\u001b[0m\u001b[0;34m\u001b[0m\u001b[0m\n",
      "\u001b[0;32m~/anaconda3/lib/python3.6/site-packages/sklearn/ensemble/weight_boosting.py\u001b[0m in \u001b[0;36m_get_median_predict\u001b[0;34m(self, X, limit)\u001b[0m\n\u001b[1;32m   1059\u001b[0m         \u001b[0;31m# Evaluate predictions of all estimators\u001b[0m\u001b[0;34m\u001b[0m\u001b[0;34m\u001b[0m\u001b[0m\n\u001b[1;32m   1060\u001b[0m         predictions = np.array([\n\u001b[0;32m-> 1061\u001b[0;31m             est.predict(X) for est in self.estimators_[:limit]]).T\n\u001b[0m\u001b[1;32m   1062\u001b[0m \u001b[0;34m\u001b[0m\u001b[0m\n\u001b[1;32m   1063\u001b[0m         \u001b[0;31m# Sort the predictions\u001b[0m\u001b[0;34m\u001b[0m\u001b[0;34m\u001b[0m\u001b[0m\n",
      "\u001b[0;32m~/anaconda3/lib/python3.6/site-packages/sklearn/ensemble/weight_boosting.py\u001b[0m in \u001b[0;36m<listcomp>\u001b[0;34m(.0)\u001b[0m\n\u001b[1;32m   1059\u001b[0m         \u001b[0;31m# Evaluate predictions of all estimators\u001b[0m\u001b[0;34m\u001b[0m\u001b[0;34m\u001b[0m\u001b[0m\n\u001b[1;32m   1060\u001b[0m         predictions = np.array([\n\u001b[0;32m-> 1061\u001b[0;31m             est.predict(X) for est in self.estimators_[:limit]]).T\n\u001b[0m\u001b[1;32m   1062\u001b[0m \u001b[0;34m\u001b[0m\u001b[0m\n\u001b[1;32m   1063\u001b[0m         \u001b[0;31m# Sort the predictions\u001b[0m\u001b[0;34m\u001b[0m\u001b[0;34m\u001b[0m\u001b[0m\n",
      "\u001b[0;32m~/anaconda3/lib/python3.6/site-packages/sklearn/svm/base.py\u001b[0m in \u001b[0;36mpredict\u001b[0;34m(self, X)\u001b[0m\n\u001b[1;32m    308\u001b[0m         \u001b[0mX\u001b[0m \u001b[0;34m=\u001b[0m \u001b[0mself\u001b[0m\u001b[0;34m.\u001b[0m\u001b[0m_validate_for_predict\u001b[0m\u001b[0;34m(\u001b[0m\u001b[0mX\u001b[0m\u001b[0;34m)\u001b[0m\u001b[0;34m\u001b[0m\u001b[0m\n\u001b[1;32m    309\u001b[0m         \u001b[0mpredict\u001b[0m \u001b[0;34m=\u001b[0m \u001b[0mself\u001b[0m\u001b[0;34m.\u001b[0m\u001b[0m_sparse_predict\u001b[0m \u001b[0;32mif\u001b[0m \u001b[0mself\u001b[0m\u001b[0;34m.\u001b[0m\u001b[0m_sparse\u001b[0m \u001b[0;32melse\u001b[0m \u001b[0mself\u001b[0m\u001b[0;34m.\u001b[0m\u001b[0m_dense_predict\u001b[0m\u001b[0;34m\u001b[0m\u001b[0m\n\u001b[0;32m--> 310\u001b[0;31m         \u001b[0;32mreturn\u001b[0m \u001b[0mpredict\u001b[0m\u001b[0;34m(\u001b[0m\u001b[0mX\u001b[0m\u001b[0;34m)\u001b[0m\u001b[0;34m\u001b[0m\u001b[0m\n\u001b[0m\u001b[1;32m    311\u001b[0m \u001b[0;34m\u001b[0m\u001b[0m\n\u001b[1;32m    312\u001b[0m     \u001b[0;32mdef\u001b[0m \u001b[0m_dense_predict\u001b[0m\u001b[0;34m(\u001b[0m\u001b[0mself\u001b[0m\u001b[0;34m,\u001b[0m \u001b[0mX\u001b[0m\u001b[0;34m)\u001b[0m\u001b[0;34m:\u001b[0m\u001b[0;34m\u001b[0m\u001b[0m\n",
      "\u001b[0;32m~/anaconda3/lib/python3.6/site-packages/sklearn/svm/base.py\u001b[0m in \u001b[0;36m_sparse_predict\u001b[0;34m(self, X)\u001b[0m\n\u001b[1;32m    354\u001b[0m             \u001b[0mself\u001b[0m\u001b[0;34m.\u001b[0m\u001b[0mnu\u001b[0m\u001b[0;34m,\u001b[0m \u001b[0mself\u001b[0m\u001b[0;34m.\u001b[0m\u001b[0mepsilon\u001b[0m\u001b[0;34m,\u001b[0m \u001b[0mself\u001b[0m\u001b[0;34m.\u001b[0m\u001b[0mshrinking\u001b[0m\u001b[0;34m,\u001b[0m\u001b[0;34m\u001b[0m\u001b[0m\n\u001b[1;32m    355\u001b[0m             \u001b[0mself\u001b[0m\u001b[0;34m.\u001b[0m\u001b[0mprobability\u001b[0m\u001b[0;34m,\u001b[0m \u001b[0mself\u001b[0m\u001b[0;34m.\u001b[0m\u001b[0mn_support_\u001b[0m\u001b[0;34m,\u001b[0m\u001b[0;34m\u001b[0m\u001b[0m\n\u001b[0;32m--> 356\u001b[0;31m             self.probA_, self.probB_)\n\u001b[0m\u001b[1;32m    357\u001b[0m \u001b[0;34m\u001b[0m\u001b[0m\n\u001b[1;32m    358\u001b[0m     \u001b[0;32mdef\u001b[0m \u001b[0m_compute_kernel\u001b[0m\u001b[0;34m(\u001b[0m\u001b[0mself\u001b[0m\u001b[0;34m,\u001b[0m \u001b[0mX\u001b[0m\u001b[0;34m)\u001b[0m\u001b[0;34m:\u001b[0m\u001b[0;34m\u001b[0m\u001b[0m\n",
      "\u001b[0;31mKeyboardInterrupt\u001b[0m: "
     ]
    }
   ],
   "source": [
    "from sklearn.model_selection import ParameterGrid\n",
    "from sklearn.linear_model import LinearRegression\n",
    "from sklearn.svm import SVR\n",
    "from sklearn.tree import DecisionTreeRegressor\n",
    "from sklearn.dummy import DummyRegressor\n",
    "from sklearn.neighbors import KNeighborsRegressor\n",
    "from sklearn.ensemble import GradientBoostingRegressor\n",
    "from sklearn.linear_model import Ridge\n",
    "from sklearn.utils import check_random_state\n",
    "from sklearn.ensemble import AdaBoostRegressor\n",
    "from lightgbm import LGBMRegressor\n",
    "from xgboost import XGBRegressor\n",
    "\n",
    "#randomState = check_random_state(0)\n",
    "rmse_list =[]\n",
    "X = matriz_train\n",
    "y = vetor_train_target\n",
    "kf = KFold(n_splits=2);\n",
    "\n",
    "\n",
    "# Parametros a serem variados no bagging\n",
    "grid = ParameterGrid({\"loss\": ['linear', 'square', 'exponential']})\n",
    "\n",
    "# Testando cada estimador com cada configuração de parametros\n",
    "for base_estimator in [ \n",
    "                        Ridge(alpha = 29.0),\n",
    "                        GradientBoostingRegressor(learning_rate = 0.01),\n",
    "                        DummyRegressor(),\n",
    "                        DecisionTreeRegressor(),\n",
    "                        SVR(),\n",
    "                        KNeighborsRegressor(),\n",
    "                        LGBMRegressor(boosting_type='dart', class_weight=None, colsample_bytree=1.0,\n",
    "                                             learning_rate=0.05, max_depth=-1, min_child_samples=20,\n",
    "                                             min_child_weight=0.001, min_split_gain=0.0, n_estimators=25,\n",
    "                                             n_jobs=-1, num_leaves=200, objective='regression', random_state=None,\n",
    "                                             reg_alpha=0.0, reg_lambda=0.0, silent=True, subsample=1.0,\n",
    "                                             subsample_for_bin=200000, subsample_freq=1, task='train'),\n",
    "                        XGBRegressor()]:\n",
    "    for params in grid:\n",
    "        start = time.time()\n",
    "        \n",
    "        rmse_list =[]\n",
    "\n",
    "        for train, test in kf.split(X):\n",
    "            X_train, X_test = X[train], X[test];\n",
    "            y_train, y_test = y[train], y[test];\n",
    "            \n",
    "            # Criando AdaBoostRegressor\n",
    "            regr = AdaBoostRegressor(base_estimator=base_estimator,\n",
    "                                 **params)\n",
    "\n",
    "            # Treino\n",
    "            regr.fit(X_train, y_train.toarray().ravel()) \n",
    "\n",
    "            # Predição     \n",
    "            y_pred = regr.predict(X_test)\n",
    "\n",
    "            #Root mean squared error\n",
    "            rmse_list.append(np.sqrt(mean_squared_error(y_test.todense(), y_pred)));\n",
    "            end = time.time()\n",
    "\n",
    "        print('Tempo de processamento do regressor Adaboost - Estimador: ' + str(base_estimator) + ' params: ' + str(params) + ': '+str(\"%.2f\" % (end - start))+'s\\n')\n",
    "        print(\"RMSE MEAN: \",\"%.4f\" % np.mean(rmse_list))\n",
    "        print(\"RMSE STD:  \",\"%.4f\" % np.std(rmse_list))\n",
    "        print(\"\\n\")"
   ]
  },
  {
   "cell_type": "markdown",
   "metadata": {},
   "source": [
    "## Utilizando Stacking"
   ]
  },
  {
   "cell_type": "code",
   "execution_count": 15,
   "metadata": {},
   "outputs": [
    {
     "name": "stdout",
     "output_type": "stream",
     "text": [
      "Tempo de processamento do regressor linear: 36.22s\n",
      "\n",
      "\n",
      "RMSE MEAN:  0.2418\n",
      "RMSE STD:   0.0012 \n",
      "\n",
      "\n"
     ]
    }
   ],
   "source": [
    "from sklearn.neighbors import KNeighborsRegressor\n",
    "from sklearn.ensemble import GradientBoostingRegressor\n",
    "from sklearn.linear_model import Ridge\n",
    "from sklearn.linear_model import RidgeCV\n",
    "from sklearn.utils import check_random_state\n",
    "from sklearn.ensemble import AdaBoostRegressor\n",
    "from sklearn.ensemble import ExtraTreesRegressor\n",
    "from sklearn.ensemble import RandomForestRegressor\n",
    "from xgboost import XGBRegressor\n",
    "from sklearn.ensemble import BaggingRegressor\n",
    "from mlxtend.regressor import StackingRegressor\n",
    "from lightgbm import LGBMRegressor\n",
    "from sklearn.ensemble import RandomForestRegressor\n",
    "\n",
    "rmse_list =[]\n",
    "X= matriz_train\n",
    "y= vetor_train_target\n",
    "X_test  = matriz_test\n",
    "kf = KFold(n_splits=2);\n",
    "\n",
    "# Definindo estimadores da primeira camada\n",
    "estimators_L1 = [\n",
    "    ( ExtraTreesRegressor(random_state=0, n_jobs=-1, \n",
    "                               n_estimators=40, max_depth=3)),\n",
    "    (BaggingRegressor(LGBMRegressor(boosting_type='gbdt', class_weight=None, colsample_bytree=1.0,\n",
    "                     learning_rate=0.05, max_depth=-1, min_child_samples=20,\n",
    "                     min_child_weight=0.001, min_split_gain=0.0, n_estimators=25,\n",
    "                     n_jobs=-1, num_leaves=270, objective='regression', random_state=None,\n",
    "                     reg_alpha=0.0, reg_lambda=0.0, silent=True, subsample=1.0,\n",
    "                     subsample_for_bin=200000, subsample_freq=1, task='train'))),\n",
    "    (RidgeCV(alphas = [0.1, 1.0, 10.0])),\n",
    "    (XGBRegressor()),\n",
    "    (BaggingRegressor(Ridge(alpha = 29.0,random_state=5), bootstrap = False, bootstrap_features= True, max_features = 1.0, max_samples = 1.0, n_jobs=-1)), \n",
    "    (BaggingRegressor(KNeighborsRegressor(30, 'distance', 'auto', 50), \n",
    "                           bootstrap = False, bootstrap_features= False, max_features = 1.0, max_samples = 1.0, n_jobs=-1, random_state=0))\n",
    "]\n",
    "\n",
    "# Definindo estimador final\n",
    "final_estimator = BaggingRegressor(( ExtraTreesRegressor(random_state=0, n_jobs=-1, \n",
    "                               n_estimators=30, max_depth=2)), bootstrap = False,\n",
    "                                   bootstrap_features= True, max_features = 1.0, max_samples = 0.5, n_jobs=-1,random_state=0)\n",
    "\n",
    "start = time.time()\n",
    "\n",
    "\n",
    "# Validação cruzada    \n",
    "for train, test in kf.split(X):\n",
    "    X_train, X_test = X[train], X[test];\n",
    "    y_train, y_test = y[train], y[test];\n",
    "\n",
    "    # Criando Stacking Regressor \n",
    "    stregr = StackingRegressor(regressors=estimators_L1, \n",
    "                           meta_regressor=final_estimator)\n",
    "\n",
    "    # Treino\n",
    "    stregr = StackingRegressor(regressors=estimators_L1, \n",
    "                           meta_regressor=final_estimator)\n",
    "\n",
    "    stregr.fit(X_train, y_train.toarray().ravel()) \n",
    "    \n",
    "    # Predição     \n",
    "    y_pred = stregr.predict(X_test)\n",
    "    \n",
    "    #Root mean squared error\n",
    "    rmse_list.append(np.sqrt(mean_squared_error(y_test.todense(), y_pred)));\n",
    "\n",
    "end = time.time()\n",
    "\n",
    "print('Tempo de processamento do regressor linear: '+str(\"%.2f\" % (end - start))+'s\\n\\n')\n",
    "print(\"RMSE MEAN: \",\"%.4f\" % np.mean(rmse_list))\n",
    "print(\"RMSE STD:  \",\"%.4f\" % np.std(rmse_list), '\\n\\n')\n"
   ]
  },
  {
   "cell_type": "markdown",
   "metadata": {},
   "source": [
    "# Carregando os dados completos "
   ]
  },
  {
   "cell_type": "markdown",
   "metadata": {},
   "source": [
    "Após o processamento de cada regressor com as amostras dadas, podemos realizar o processamento com o regressor que deu uma precisão melhor com todos os dados, logo abaixo temos 3 variáveis para poder carregar todos os dados disponíveis."
   ]
  },
  {
   "cell_type": "code",
   "execution_count": null,
   "metadata": {},
   "outputs": [],
   "source": [
    "start = time.time()\n",
    "vetor_train_target = sps.load_npz('data/sparse_matrix_train_target.npz').tocsr()\n",
    "matriz_train       = sps.load_npz('data/sparse_matrix_train.npz').tocsr()\n",
    "matriz_test        = sps.load_npz('data/sparse_matrix_test.npz' ).tocsr()\n",
    "end = time.time()\n",
    "\n",
    "print('Tempo de carregamento das Matrizes: '+str(\"%.2f\" % (end - start))+'s\\n')"
   ]
  },
  {
   "cell_type": "markdown",
   "metadata": {},
   "source": [
    "# Utilizando regressor em dados de teste"
   ]
  },
  {
   "cell_type": "markdown",
   "metadata": {},
   "source": [
    "Para gerar os resultados utilizamos o regressor que deu a melhor precisão nas avaliações das amostras abaixo e submetemos todos os dados disponíveis a ele, para que ele possar gerar o resultado esperado"
   ]
  },
  {
   "cell_type": "code",
   "execution_count": null,
   "metadata": {},
   "outputs": [],
   "source": [
    "X_train = matriz_train\n",
    "y_train = vetor_train_target\n",
    "X_test  = matriz_test\n",
    "\n",
    "# Criando Regressor Ridge\n",
    "regr = Ridge(alpha = 30.0, fit_intercept=True, normalize=False,\n",
    "                copy_X=True,max_iter=None,tol=0.001)\n",
    "\n",
    "# Treino\n",
    "regr.fit(X_train, y_train.toarray().ravel()) \n",
    "\n",
    "# Predição      \n",
    "y_pred = regr.predict(X_test)\n",
    "\n",
    "# Melhorando resultado\n",
    "def fronteira(y):\n",
    "    if y >1:\n",
    "        return 1.0\n",
    "    elif y <0:\n",
    "        return 0.0\n",
    "    else:\n",
    "        return y\n",
    "    \n",
    "y_pred = np.array(list(map(fronteira, y_pred)))\n"
   ]
  },
  {
   "cell_type": "markdown",
   "metadata": {},
   "source": [
    "# Salvando o resultado"
   ]
  },
  {
   "cell_type": "markdown",
   "metadata": {},
   "source": [
    "Após a fase de avaliação dos regressores e a fase de gerar os resultados, criamos um arquivo com a extenção .csv, onde nesse arquivo tem todos os produtos com sua deal_probability anexada a cada produto. No campo deal_probability estão os resultados alcançados pelo processamento realizado"
   ]
  },
  {
   "cell_type": "code",
   "execution_count": 5,
   "metadata": {},
   "outputs": [],
   "source": [
    "df_test_item_id  = pd.read_csv('./data/test.csv' , encoding='utf8')['item_id'].head(y_pred.shape[0])\n",
    "df_y_pred = pd.DataFrame(y_pred, columns = ['deal_probability'])\n",
    "df_resultado = pd.concat([df_test_item_id,df_y_pred],axis =1)\n",
    "df_resultado.to_csv('submission.csv', encoding='utf-8', index=False)"
   ]
  }
 ],
 "metadata": {
  "kernelspec": {
   "display_name": "Python 3",
   "language": "python",
   "name": "python3"
  },
  "language_info": {
   "codemirror_mode": {
    "name": "ipython",
    "version": 3
   },
   "file_extension": ".py",
   "mimetype": "text/x-python",
   "name": "python",
   "nbconvert_exporter": "python",
   "pygments_lexer": "ipython3",
   "version": "3.6.4"
  }
 },
 "nbformat": 4,
 "nbformat_minor": 2
}
